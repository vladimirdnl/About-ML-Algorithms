{
 "cells": [
  {
   "cell_type": "markdown",
   "metadata": {},
   "source": [
    "# K-Means Clustering\n",
    "___"
   ]
  },
  {
   "cell_type": "markdown",
   "metadata": {},
   "source": [
    "**K-means clustering** is a simple and popular unsupervised machine learning algorithm.\\\n",
    "This algorithm is used to divide unlabeled data into groups.\\\n",
    "(Especially, we divide our data into **K** clusters.)"
   ]
  },
  {
   "cell_type": "markdown",
   "metadata": {},
   "source": [
    "## How is it done?"
   ]
  },
  {
   "cell_type": "markdown",
   "metadata": {},
   "source": [
    "Well, pretty simple.\\\n",
    "For example, let's imagine we have some **data points** and we need to **divide** them into **k clusters**.\\\n",
    "\\\n",
    "**1)** Firstly, each cluster should have its own **centroid**. For **first centroids** we can take **random points** from our data\\\n",
    "**2)** Then, for **each data point** we calculate the **Euclidian distance** to all of our **k centroids**.\\\n",
    "*(By the Euclidian distance I mean: $d = \\sqrt{(x2-x1)^2 + (y2-y1)^2 + ... + (n2 - n1)^2}$.\\\n",
    "And by coordinates I mean any numerical data that have different values and by which we can somehow say about its belonging to certain, unique  group.)*\\\n",
    "**3)** Comparing the **distances** to the centroids, we take **the least one** and assume that the point **belongs** to the cluster with this, certain centroid.\\\n",
    "**4)** When we **divided** our all points into clusters, we take the **mean of 'coordinates'** of all data points in **every cluster** and assume that these are our **new centroids**.\\\n",
    "**5)** Then we can repeat it again and again untill there is **no change** in coordinates of the centroids. And that is it!\\\n",
    "**6)** To know what k we should take, we should run some models where $k = 1, 2, 3, ..., n$  to get the inertia of the model. All there is left to do is to plot a graph ($x$ -> $1,2,3,..., n$ ; $y$ -> inertia) and use \"The Rule of an Elbow\": on which point the graph is similar to an elbow, that point we should take.\\\n",
    "Simply saying, we should take the point (k number of clusters) where on the graph:\\\n",
    "*A) Before that point we have a huge change of inertia\\\n",
    " B) After that point the inertia doesn't change much*"
   ]
  },
  {
   "cell_type": "markdown",
   "metadata": {},
   "source": [
    "## Application of K-Means"
   ]
  },
  {
   "cell_type": "code",
   "execution_count": 14,
   "metadata": {},
   "outputs": [],
   "source": [
    "#importing libraries\n",
    "import numpy as np\n",
    "import pandas as pd\n",
    "import math\n",
    "from matplotlib import pyplot as plt\n",
    "%matplotlib inline"
   ]
  },
  {
   "cell_type": "code",
   "execution_count": 15,
   "metadata": {
    "scrolled": true
   },
   "outputs": [
    {
     "data": {
      "text/plain": [
       "<matplotlib.legend.Legend at 0x112a0a0>"
      ]
     },
     "execution_count": 15,
     "metadata": {},
     "output_type": "execute_result"
    },
    {
     "data": {
      "image/png": "[encoded data removed]",
      "text/plain": [
       "<Figure size 432x288 with 1 Axes>"
      ]
     },
     "metadata": {
      "needs_background": "light"
     },
     "output_type": "display_data"
    }
   ],
   "source": [
    "#Creating our hypothetical clusters with k = 3\n",
    "\n",
    "np.random.seed(141)\n",
    "\n",
    "start_point1 = [np.random.randint(8, 11), np.random.randint(5, 10)]\n",
    "start_point2 = [np.random.randint(4, 7), np.random.randint(5, 10)]\n",
    "start_point3 = [np.random.randint(1, 3), np.random.randint(5, 10)]\n",
    "\n",
    "#Creating data points\n",
    "cluster1 = [[start_point1[0] + np.random.randn()/2, start_point1[1] + np.random.randn()] for i in range(np.random.randint(15,25))]\n",
    "cluster1 = pd.DataFrame(data = cluster1, columns = ['x', 'y'])\n",
    "\n",
    "cluster2 = [[start_point2[0] + np.random.randn()/2, start_point2[1] + np.random.randn()] for i in range(np.random.randint(15,25))]\n",
    "cluster2 = pd.DataFrame(data = cluster2, columns = ['x', 'y'])\n",
    "\n",
    "cluster3 = [[start_point3[0] + np.random.randn()/2, start_point3[1] + np.random.randn()] for i in range(np.random.randint(15,25))]\n",
    "cluster3 = pd.DataFrame(data = cluster3, columns = ['x', 'y'])\n",
    "\n",
    "#plotting our graph: cluster points\n",
    "\n",
    "plt.scatter(cluster1['x'], cluster1['y'], color = 'y', label = 'Yellow cluster')\n",
    "plt.scatter(cluster2['x'], cluster2['y'], color = 'r', label = 'Red cluster')\n",
    "plt.scatter(cluster3['x'], cluster3['y'], color = 'b', label = 'Blue cluster')\n",
    "\n",
    "plt.legend()"
   ]
  },
  {
   "cell_type": "markdown",
   "metadata": {},
   "source": [
    "But now let's plot it in a different way: so we don't know what are the clusters"
   ]
  },
  {
   "cell_type": "code",
   "execution_count": 16,
   "metadata": {},
   "outputs": [
    {
     "data": {
      "text/html": [
       "<div>\n",
       "<style scoped>\n",
       "    .dataframe tbody tr th:only-of-type {\n",
       "        vertical-align: middle;\n",
       "    }\n",
       "\n",
       "    .dataframe tbody tr th {\n",
       "        vertical-align: top;\n",
       "    }\n",
       "\n",
       "    .dataframe thead th {\n",
       "        text-align: right;\n",
       "    }\n",
       "</style>\n",
       "<table border=\"1\" class=\"dataframe\">\n",
       "  <thead>\n",
       "    <tr style=\"text-align: right;\">\n",
       "      <th></th>\n",
       "      <th>x</th>\n",
       "      <th>y</th>\n",
       "    </tr>\n",
       "  </thead>\n",
       "  <tbody>\n",
       "    <tr>\n",
       "      <th>0</th>\n",
       "      <td>9.613435</td>\n",
       "      <td>6.479246</td>\n",
       "    </tr>\n",
       "    <tr>\n",
       "      <th>1</th>\n",
       "      <td>10.055258</td>\n",
       "      <td>5.746816</td>\n",
       "    </tr>\n",
       "    <tr>\n",
       "      <th>2</th>\n",
       "      <td>9.971430</td>\n",
       "      <td>6.065740</td>\n",
       "    </tr>\n",
       "    <tr>\n",
       "      <th>3</th>\n",
       "      <td>10.033002</td>\n",
       "      <td>5.665668</td>\n",
       "    </tr>\n",
       "    <tr>\n",
       "      <th>4</th>\n",
       "      <td>9.694471</td>\n",
       "      <td>6.627757</td>\n",
       "    </tr>\n",
       "    <tr>\n",
       "      <th>5</th>\n",
       "      <td>8.905788</td>\n",
       "      <td>5.672078</td>\n",
       "    </tr>\n",
       "    <tr>\n",
       "      <th>6</th>\n",
       "      <td>9.871871</td>\n",
       "      <td>8.307315</td>\n",
       "    </tr>\n",
       "    <tr>\n",
       "      <th>7</th>\n",
       "      <td>9.397406</td>\n",
       "      <td>6.935441</td>\n",
       "    </tr>\n",
       "    <tr>\n",
       "      <th>8</th>\n",
       "      <td>10.100803</td>\n",
       "      <td>5.673436</td>\n",
       "    </tr>\n",
       "    <tr>\n",
       "      <th>9</th>\n",
       "      <td>10.184221</td>\n",
       "      <td>7.524339</td>\n",
       "    </tr>\n",
       "  </tbody>\n",
       "</table>\n",
       "</div>"
      ],
      "text/plain": [
       "           x         y\n",
       "0   9.613435  6.479246\n",
       "1  10.055258  5.746816\n",
       "2   9.971430  6.065740\n",
       "3  10.033002  5.665668\n",
       "4   9.694471  6.627757\n",
       "5   8.905788  5.672078\n",
       "6   9.871871  8.307315\n",
       "7   9.397406  6.935441\n",
       "8  10.100803  5.673436\n",
       "9  10.184221  7.524339"
      ]
     },
     "execution_count": 16,
     "metadata": {},
     "output_type": "execute_result"
    }
   ],
   "source": [
    "#Creating a dataset from points\n",
    "data = pd.DataFrame(columns = ['x', 'y'])\n",
    "data['x'] = pd.concat([cluster1['x'], cluster2['x'], cluster3['x']], ignore_index = True)\n",
    "data['y'] = pd.concat([cluster1['y'], cluster2['y'], cluster3['y']], ignore_index = True)\n",
    "data.head(10)"
   ]
  },
  {
   "cell_type": "code",
   "execution_count": 17,
   "metadata": {},
   "outputs": [
    {
     "data": {
      "text/plain": [
       "<matplotlib.collections.PathCollection at 0x123c8e0>"
      ]
     },
     "execution_count": 17,
     "metadata": {},
     "output_type": "execute_result"
    },
    {
     "data": {
      "image/png": "[encoded data removed]",
      "text/plain": [
       "<Figure size 432x288 with 1 Axes>"
      ]
     },
     "metadata": {
      "needs_background": "light"
     },
     "output_type": "display_data"
    }
   ],
   "source": [
    "plt.scatter(data['x'], data['y'])"
   ]
  },
  {
   "cell_type": "code",
   "execution_count": 18,
   "metadata": {},
   "outputs": [],
   "source": [
    "#importing scikitlearn's K-means\n",
    "from sklearn.cluster import KMeans"
   ]
  },
  {
   "cell_type": "code",
   "execution_count": 19,
   "metadata": {},
   "outputs": [
    {
     "data": {
      "text/plain": [
       "[<matplotlib.lines.Line2D at 0x1274730>]"
      ]
     },
     "execution_count": 19,
     "metadata": {},
     "output_type": "execute_result"
    },
    {
     "data": {
      "image/png": "[encoded data removed]",
      "text/plain": [
       "<Figure size 432x288 with 1 Axes>"
      ]
     },
     "metadata": {
      "needs_background": "light"
     },
     "output_type": "display_data"
    }
   ],
   "source": [
    "#We look at inertia with cluster's number from 1 to 6\n",
    "inertia = []\n",
    "for i in range(1, 7):\n",
    "    km = KMeans(n_clusters=i)\n",
    "    km.fit(data)\n",
    "    inertia.append(km.inertia_)\n",
    "plt.plot([i for i in range(1,7)], inertia)"
   ]
  },
  {
   "cell_type": "markdown",
   "metadata": {},
   "source": [
    "Look, by \"The Elbow Method\" we exactly know, that we should take k = 3.\\\n",
    "Let's do it one more time and plot our KMeans graph with predicted clusters!"
   ]
  },
  {
   "cell_type": "code",
   "execution_count": 20,
   "metadata": {
    "scrolled": true
   },
   "outputs": [
    {
     "data": {
      "text/html": [
       "<div>\n",
       "<style scoped>\n",
       "    .dataframe tbody tr th:only-of-type {\n",
       "        vertical-align: middle;\n",
       "    }\n",
       "\n",
       "    .dataframe tbody tr th {\n",
       "        vertical-align: top;\n",
       "    }\n",
       "\n",
       "    .dataframe thead th {\n",
       "        text-align: right;\n",
       "    }\n",
       "</style>\n",
       "<table border=\"1\" class=\"dataframe\">\n",
       "  <thead>\n",
       "    <tr style=\"text-align: right;\">\n",
       "      <th></th>\n",
       "      <th>x</th>\n",
       "      <th>y</th>\n",
       "      <th>cluster</th>\n",
       "    </tr>\n",
       "  </thead>\n",
       "  <tbody>\n",
       "    <tr>\n",
       "      <th>0</th>\n",
       "      <td>9.613435</td>\n",
       "      <td>6.479246</td>\n",
       "      <td>1</td>\n",
       "    </tr>\n",
       "    <tr>\n",
       "      <th>1</th>\n",
       "      <td>10.055258</td>\n",
       "      <td>5.746816</td>\n",
       "      <td>1</td>\n",
       "    </tr>\n",
       "    <tr>\n",
       "      <th>2</th>\n",
       "      <td>9.971430</td>\n",
       "      <td>6.065740</td>\n",
       "      <td>1</td>\n",
       "    </tr>\n",
       "    <tr>\n",
       "      <th>3</th>\n",
       "      <td>10.033002</td>\n",
       "      <td>5.665668</td>\n",
       "      <td>1</td>\n",
       "    </tr>\n",
       "    <tr>\n",
       "      <th>4</th>\n",
       "      <td>9.694471</td>\n",
       "      <td>6.627757</td>\n",
       "      <td>1</td>\n",
       "    </tr>\n",
       "    <tr>\n",
       "      <th>5</th>\n",
       "      <td>8.905788</td>\n",
       "      <td>5.672078</td>\n",
       "      <td>1</td>\n",
       "    </tr>\n",
       "    <tr>\n",
       "      <th>6</th>\n",
       "      <td>9.871871</td>\n",
       "      <td>8.307315</td>\n",
       "      <td>1</td>\n",
       "    </tr>\n",
       "    <tr>\n",
       "      <th>7</th>\n",
       "      <td>9.397406</td>\n",
       "      <td>6.935441</td>\n",
       "      <td>1</td>\n",
       "    </tr>\n",
       "    <tr>\n",
       "      <th>8</th>\n",
       "      <td>10.100803</td>\n",
       "      <td>5.673436</td>\n",
       "      <td>1</td>\n",
       "    </tr>\n",
       "    <tr>\n",
       "      <th>9</th>\n",
       "      <td>10.184221</td>\n",
       "      <td>7.524339</td>\n",
       "      <td>1</td>\n",
       "    </tr>\n",
       "  </tbody>\n",
       "</table>\n",
       "</div>"
      ],
      "text/plain": [
       "           x         y  cluster\n",
       "0   9.613435  6.479246        1\n",
       "1  10.055258  5.746816        1\n",
       "2   9.971430  6.065740        1\n",
       "3  10.033002  5.665668        1\n",
       "4   9.694471  6.627757        1\n",
       "5   8.905788  5.672078        1\n",
       "6   9.871871  8.307315        1\n",
       "7   9.397406  6.935441        1\n",
       "8  10.100803  5.673436        1\n",
       "9  10.184221  7.524339        1"
      ]
     },
     "execution_count": 20,
     "metadata": {},
     "output_type": "execute_result"
    }
   ],
   "source": [
    "#Fitting our model, creating the column 'cluster' in data \n",
    "kmeans = KMeans(n_clusters = 3)\n",
    "kmeans.fit(data)\n",
    "data['cluster'] = kmeans.labels_\n",
    "data.head(10)"
   ]
  },
  {
   "cell_type": "code",
   "execution_count": 21,
   "metadata": {},
   "outputs": [
    {
     "name": "stdout",
     "output_type": "stream",
     "text": [
      "[[5.07271813 8.08907047]\n",
      " [9.7759406  6.19078367]\n",
      " [1.07038692 9.00999098]]\n"
     ]
    },
    {
     "data": {
      "text/html": [
       "<div>\n",
       "<style scoped>\n",
       "    .dataframe tbody tr th:only-of-type {\n",
       "        vertical-align: middle;\n",
       "    }\n",
       "\n",
       "    .dataframe tbody tr th {\n",
       "        vertical-align: top;\n",
       "    }\n",
       "\n",
       "    .dataframe thead th {\n",
       "        text-align: right;\n",
       "    }\n",
       "</style>\n",
       "<table border=\"1\" class=\"dataframe\">\n",
       "  <thead>\n",
       "    <tr style=\"text-align: right;\">\n",
       "      <th></th>\n",
       "      <th>x</th>\n",
       "      <th>y</th>\n",
       "    </tr>\n",
       "  </thead>\n",
       "  <tbody>\n",
       "    <tr>\n",
       "      <th>0</th>\n",
       "      <td>5.072718</td>\n",
       "      <td>8.089070</td>\n",
       "    </tr>\n",
       "    <tr>\n",
       "      <th>1</th>\n",
       "      <td>9.775941</td>\n",
       "      <td>6.190784</td>\n",
       "    </tr>\n",
       "    <tr>\n",
       "      <th>2</th>\n",
       "      <td>1.070387</td>\n",
       "      <td>9.009991</td>\n",
       "    </tr>\n",
       "  </tbody>\n",
       "</table>\n",
       "</div>"
      ],
      "text/plain": [
       "          x         y\n",
       "0  5.072718  8.089070\n",
       "1  9.775941  6.190784\n",
       "2  1.070387  9.009991"
      ]
     },
     "execution_count": 21,
     "metadata": {},
     "output_type": "execute_result"
    }
   ],
   "source": [
    "#getting predicted centroids\n",
    "centroids = kmeans.cluster_centers_\n",
    "print(centroids)\n",
    "centroids = pd.DataFrame(data = {'x': [centroids[i,0] for i in range(3)], \n",
    "                                 'y': [centroids[i,1] for i in range(3)], })\n",
    "centroids"
   ]
  },
  {
   "cell_type": "code",
   "execution_count": 22,
   "metadata": {},
   "outputs": [],
   "source": [
    "#Make clusters from data\n",
    "cluster1_p = data[data['cluster'] == 0].drop('cluster', axis = 1)\n",
    "cluster2_p = data[data['cluster'] == 1].drop('cluster', axis = 1)\n",
    "cluster3_p = data[data['cluster'] == 2].drop('cluster', axis = 1)"
   ]
  },
  {
   "cell_type": "code",
   "execution_count": 23,
   "metadata": {},
   "outputs": [
    {
     "data": {
      "text/plain": [
       "<matplotlib.collections.PathCollection at 0x12cc730>"
      ]
     },
     "execution_count": 23,
     "metadata": {},
     "output_type": "execute_result"
    },
    {
     "data": {
      "image/png": "[encoded data removed]",
      "text/plain": [
       "<Figure size 576x576 with 2 Axes>"
      ]
     },
     "metadata": {
      "needs_background": "light"
     },
     "output_type": "display_data"
    }
   ],
   "source": [
    "#Creating two subplots: first for actual data, second for predicted\n",
    "fig, [ActualAx, PredictAx] = plt.subplots(2)\n",
    "fig.set_size_inches(8, 8)\n",
    "\n",
    "\n",
    "#Predicted clusters \n",
    "PredictAx.scatter(cluster1_p['x'], cluster1_p['y'], color = 'c')\n",
    "PredictAx.scatter(cluster2_p['x'], cluster2_p['y'], color = 'm')\n",
    "PredictAx.scatter(cluster3_p['x'], cluster3_p['y'], color = 'g')\n",
    "\n",
    "#Centroids\n",
    "PredictAx.scatter(centroids['x'], centroids['y'], color = 'k', marker = 'x')\n",
    "\n",
    "#Actual clusters\n",
    "ActualAx.scatter(cluster1['x'], cluster1['y'], color = 'y')\n",
    "ActualAx.scatter(cluster2['x'], cluster2['y'], color = 'r')\n",
    "ActualAx.scatter(cluster3['x'], cluster3['y'], color = 'b')"
   ]
  },
  {
   "cell_type": "markdown",
   "metadata": {},
   "source": [
    "And that is how the K-Means algorithm works!"
   ]
  },
  {
   "cell_type": "code",
   "execution_count": null,
   "metadata": {},
   "outputs": [],
   "source": []
  }
 ],
 "metadata": {
  "kernelspec": {
   "display_name": "Python 3",
   "language": "python",
   "name": "python3"
  },
  "language_info": {
   "codemirror_mode": {
    "name": "ipython",
    "version": 3
   },
   "file_extension": ".py",
   "mimetype": "text/x-python",
   "name": "python",
   "nbconvert_exporter": "python",
   "pygments_lexer": "ipython3",
   "version": "3.8.2"
  }
 },
 "nbformat": 4,
 "nbformat_minor": 4
}
