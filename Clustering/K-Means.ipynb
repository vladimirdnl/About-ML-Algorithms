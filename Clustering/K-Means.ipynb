{
 "cells": [
  {
   "cell_type": "markdown",
   "metadata": {},
   "source": [
    "# K-Means Clustering\n",
    "___"
   ]
  },
  {
   "cell_type": "markdown",
   "metadata": {},
   "source": [
    "**K-means clustering** is a simple and popular unsupervised machine learning algorithm.\\\n",
    "This algorithm is used to divide unlabeled data into groups.\\\n",
    "(Especially, we divide our data into **K** clusters.)"
   ]
  },
  {
   "cell_type": "markdown",
   "metadata": {},
   "source": [
    "## How is it done?"
   ]
  },
  {
   "cell_type": "markdown",
   "metadata": {},
   "source": [
    "Well, pretty simple.\\\n",
    "For example, let's imagine we have some **data points** and we need to **divide** them into **k clusters**.\\\n",
    "\\\n",
    "**1)** Firstly, each cluster should have its own **centroid**. For **first centroids** we can take **random points** from our data\\\n",
    "**2)** Then, for **each data point** we calculate the **Euclidian distance** to all of our **k centroids**.\\\n",
    "*(By the Euclidian distance I mean: $d = \\sqrt{(x2-x1)^2 + (y2-y1)^2 + ... + (n2 - n1)^2}$.\\\n",
    "And by coordinates I mean any numerical data that have different values and by which we can somehow say about its belonging to certain, unique  group.)*\\\n",
    "**3)** Comparing the **distances** to the centroids, we take **the least one** and assume that the point **belongs** to the cluster with this, certain centroid.\\\n",
    "**4)** When we **divided** our all points into clusters, we take the **mean of 'coordinates'** of all data points in **every cluster** and assume that these are our **new centroids**.\\\n",
    "**5)** Then we can repeat it again and again untill there is **no change** in coordinates of the centroids. And that is it!\\\n",
    "**6)** To know what k we should take, we should run some models where $k = 1, 2, 3, ..., n$  to get the inertia of the model. All there is left to do is to plot a graph ($x$ -> $1,2,3,..., n$ ; $y$ -> inertia) and use \"The Rule of an Elbow\": on which point the graph is similar to an elbow, that point we should take.\\\n",
    "Simply saying, we should take the point (k number of clusters) where on the graph:\\\n",
    "*A) Before that point we have a huge change of inertia\\\n",
    " B) After that point the inertia doesn't change much*"
   ]
  },
  {
   "cell_type": "markdown",
   "metadata": {},
   "source": [
    "## Application of K-Means"
   ]
  },
  {
   "cell_type": "code",
   "execution_count": 17,
   "metadata": {},
   "outputs": [],
   "source": [
    "#importing libraries\n",
    "import numpy as np\n",
    "import pandas as pd\n",
    "import math\n",
    "from matplotlib import pyplot as plt\n",
    "%matplotlib inline"
   ]
  },
  {
   "cell_type": "code",
   "execution_count": 18,
   "metadata": {
    "scrolled": true
   },
   "outputs": [
    {
     "data": {
      "text/plain": [
       "<matplotlib.legend.Legend at 0x77fd78>"
      ]
     },
     "execution_count": 18,
     "metadata": {},
     "output_type": "execute_result"
    },
    {
     "data": {
      "image/png": "[encoded data removed]",
      "text/plain": [
       "<Figure size 432x288 with 1 Axes>"
      ]
     },
     "metadata": {
      "needs_background": "light"
     },
     "output_type": "display_data"
    }
   ],
   "source": [
    "#Creating our hypothetical clusters with k = 3\n",
    "\n",
    "start_point1 = [np.random.randint(8, 11), np.random.randint(5, 10)]\n",
    "start_point2 = [np.random.randint(4, 7), np.random.randint(5, 10)]\n",
    "start_point3 = [np.random.randint(1, 3), np.random.randint(5, 10)]\n",
    "\n",
    "#Creating data points\n",
    "cluster1 = [[start_point1[0] + np.random.randn()/2, start_point1[1] + np.random.randn()] for i in range(np.random.randint(15,25))]\n",
    "cluster1 = pd.DataFrame(data = cluster1, columns = ['x', 'y'])\n",
    "\n",
    "cluster2 = [[start_point2[0] + np.random.randn()/2, start_point2[1] + np.random.randn()] for i in range(np.random.randint(15,25))]\n",
    "cluster2 = pd.DataFrame(data = cluster2, columns = ['x', 'y'])\n",
    "\n",
    "cluster3 = [[start_point3[0] + np.random.randn()/2, start_point3[1] + np.random.randn()] for i in range(np.random.randint(15,25))]\n",
    "cluster3 = pd.DataFrame(data = cluster3, columns = ['x', 'y'])\n",
    "\n",
    "#plotting our graph: cluster points\n",
    "\n",
    "plt.scatter(cluster1['x'], cluster1['y'], color = 'y', label = 'Yellow cluster')\n",
    "plt.scatter(cluster2['x'], cluster2['y'], color = 'r', label = 'Red cluster')\n",
    "plt.scatter(cluster3['x'], cluster3['y'], color = 'b', label = 'Blue cluster')\n",
    "\n",
    "plt.legend()"
   ]
  },
  {
   "cell_type": "markdown",
   "metadata": {},
   "source": [
    "But now let's plot it in a different way: so we don't know what are the clusters"
   ]
  },
  {
   "cell_type": "code",
   "execution_count": 19,
   "metadata": {},
   "outputs": [
    {
     "data": {
      "text/html": [
       "<div>\n",
       "<style scoped>\n",
       "    .dataframe tbody tr th:only-of-type {\n",
       "        vertical-align: middle;\n",
       "    }\n",
       "\n",
       "    .dataframe tbody tr th {\n",
       "        vertical-align: top;\n",
       "    }\n",
       "\n",
       "    .dataframe thead th {\n",
       "        text-align: right;\n",
       "    }\n",
       "</style>\n",
       "<table border=\"1\" class=\"dataframe\">\n",
       "  <thead>\n",
       "    <tr style=\"text-align: right;\">\n",
       "      <th></th>\n",
       "      <th>x</th>\n",
       "      <th>y</th>\n",
       "    </tr>\n",
       "  </thead>\n",
       "  <tbody>\n",
       "    <tr>\n",
       "      <th>0</th>\n",
       "      <td>8.835697</td>\n",
       "      <td>7.869800</td>\n",
       "    </tr>\n",
       "    <tr>\n",
       "      <th>1</th>\n",
       "      <td>9.570828</td>\n",
       "      <td>6.330668</td>\n",
       "    </tr>\n",
       "    <tr>\n",
       "      <th>2</th>\n",
       "      <td>8.024402</td>\n",
       "      <td>6.837615</td>\n",
       "    </tr>\n",
       "    <tr>\n",
       "      <th>3</th>\n",
       "      <td>9.462466</td>\n",
       "      <td>9.249034</td>\n",
       "    </tr>\n",
       "    <tr>\n",
       "      <th>4</th>\n",
       "      <td>8.680856</td>\n",
       "      <td>6.582748</td>\n",
       "    </tr>\n",
       "    <tr>\n",
       "      <th>5</th>\n",
       "      <td>8.951427</td>\n",
       "      <td>6.618216</td>\n",
       "    </tr>\n",
       "    <tr>\n",
       "      <th>6</th>\n",
       "      <td>8.757939</td>\n",
       "      <td>5.964318</td>\n",
       "    </tr>\n",
       "    <tr>\n",
       "      <th>7</th>\n",
       "      <td>8.776854</td>\n",
       "      <td>7.755875</td>\n",
       "    </tr>\n",
       "    <tr>\n",
       "      <th>8</th>\n",
       "      <td>9.865119</td>\n",
       "      <td>7.453920</td>\n",
       "    </tr>\n",
       "    <tr>\n",
       "      <th>9</th>\n",
       "      <td>8.873090</td>\n",
       "      <td>5.521460</td>\n",
       "    </tr>\n",
       "  </tbody>\n",
       "</table>\n",
       "</div>"
      ],
      "text/plain": [
       "          x         y\n",
       "0  8.835697  7.869800\n",
       "1  9.570828  6.330668\n",
       "2  8.024402  6.837615\n",
       "3  9.462466  9.249034\n",
       "4  8.680856  6.582748\n",
       "5  8.951427  6.618216\n",
       "6  8.757939  5.964318\n",
       "7  8.776854  7.755875\n",
       "8  9.865119  7.453920\n",
       "9  8.873090  5.521460"
      ]
     },
     "execution_count": 19,
     "metadata": {},
     "output_type": "execute_result"
    }
   ],
   "source": [
    "#Creating a dataset from points\n",
    "data = pd.DataFrame(columns = ['x', 'y'])\n",
    "data['x'] = pd.concat([cluster1['x'], cluster2['x'], cluster3['x']], ignore_index = True)\n",
    "data['y'] = pd.concat([cluster1['y'], cluster2['y'], cluster3['y']], ignore_index = True)\n",
    "data.head(10)"
   ]
  },
  {
   "cell_type": "code",
   "execution_count": 20,
   "metadata": {},
   "outputs": [
    {
     "data": {
      "text/plain": [
       "<matplotlib.collections.PathCollection at 0x9fbd30>"
      ]
     },
     "execution_count": 20,
     "metadata": {},
     "output_type": "execute_result"
    },
    {
     "data": {
      "image/png": "[encoded data removed]",
      "text/plain": [
       "<Figure size 432x288 with 1 Axes>"
      ]
     },
     "metadata": {
      "needs_background": "light"
     },
     "output_type": "display_data"
    }
   ],
   "source": [
    "plt.scatter(data['x'], data['y'])"
   ]
  },
  {
   "cell_type": "code",
   "execution_count": 21,
   "metadata": {},
   "outputs": [],
   "source": [
    "#importing scikitlearn's K-means\n",
    "from sklearn.cluster import KMeans"
   ]
  },
  {
   "cell_type": "code",
   "execution_count": 22,
   "metadata": {},
   "outputs": [
    {
     "data": {
      "text/plain": [
       "[<matplotlib.lines.Line2D at 0xa35100>]"
      ]
     },
     "execution_count": 22,
     "metadata": {},
     "output_type": "execute_result"
    },
    {
     "data": {
      "image/png": "[encoded data removed]",
      "text/plain": [
       "<Figure size 432x288 with 1 Axes>"
      ]
     },
     "metadata": {
      "needs_background": "light"
     },
     "output_type": "display_data"
    }
   ],
   "source": [
    "#We look at inertia with cluster's number from 1 to 6\n",
    "inertia = []\n",
    "for i in range(1, 7):\n",
    "    km = KMeans(n_clusters=i)\n",
    "    km.fit(data)\n",
    "    inertia.append(km.inertia_)\n",
    "plt.plot([i for i in range(1,7)], inertia)"
   ]
  },
  {
   "cell_type": "markdown",
   "metadata": {},
   "source": [
    "Look, by \"The Rule of an Elbow\" we exactly know, that we should take k = 3.\\\n",
    "Let's do it one more time and plot our KMeans graph with predicted clusters!"
   ]
  },
  {
   "cell_type": "code",
   "execution_count": 23,
   "metadata": {
    "scrolled": true
   },
   "outputs": [
    {
     "data": {
      "text/html": [
       "<div>\n",
       "<style scoped>\n",
       "    .dataframe tbody tr th:only-of-type {\n",
       "        vertical-align: middle;\n",
       "    }\n",
       "\n",
       "    .dataframe tbody tr th {\n",
       "        vertical-align: top;\n",
       "    }\n",
       "\n",
       "    .dataframe thead th {\n",
       "        text-align: right;\n",
       "    }\n",
       "</style>\n",
       "<table border=\"1\" class=\"dataframe\">\n",
       "  <thead>\n",
       "    <tr style=\"text-align: right;\">\n",
       "      <th></th>\n",
       "      <th>x</th>\n",
       "      <th>y</th>\n",
       "      <th>cluster</th>\n",
       "    </tr>\n",
       "  </thead>\n",
       "  <tbody>\n",
       "    <tr>\n",
       "      <th>0</th>\n",
       "      <td>8.835697</td>\n",
       "      <td>7.869800</td>\n",
       "      <td>0</td>\n",
       "    </tr>\n",
       "    <tr>\n",
       "      <th>1</th>\n",
       "      <td>9.570828</td>\n",
       "      <td>6.330668</td>\n",
       "      <td>0</td>\n",
       "    </tr>\n",
       "    <tr>\n",
       "      <th>2</th>\n",
       "      <td>8.024402</td>\n",
       "      <td>6.837615</td>\n",
       "      <td>0</td>\n",
       "    </tr>\n",
       "    <tr>\n",
       "      <th>3</th>\n",
       "      <td>9.462466</td>\n",
       "      <td>9.249034</td>\n",
       "      <td>0</td>\n",
       "    </tr>\n",
       "    <tr>\n",
       "      <th>4</th>\n",
       "      <td>8.680856</td>\n",
       "      <td>6.582748</td>\n",
       "      <td>0</td>\n",
       "    </tr>\n",
       "    <tr>\n",
       "      <th>5</th>\n",
       "      <td>8.951427</td>\n",
       "      <td>6.618216</td>\n",
       "      <td>0</td>\n",
       "    </tr>\n",
       "    <tr>\n",
       "      <th>6</th>\n",
       "      <td>8.757939</td>\n",
       "      <td>5.964318</td>\n",
       "      <td>0</td>\n",
       "    </tr>\n",
       "    <tr>\n",
       "      <th>7</th>\n",
       "      <td>8.776854</td>\n",
       "      <td>7.755875</td>\n",
       "      <td>0</td>\n",
       "    </tr>\n",
       "    <tr>\n",
       "      <th>8</th>\n",
       "      <td>9.865119</td>\n",
       "      <td>7.453920</td>\n",
       "      <td>0</td>\n",
       "    </tr>\n",
       "    <tr>\n",
       "      <th>9</th>\n",
       "      <td>8.873090</td>\n",
       "      <td>5.521460</td>\n",
       "      <td>0</td>\n",
       "    </tr>\n",
       "  </tbody>\n",
       "</table>\n",
       "</div>"
      ],
      "text/plain": [
       "          x         y  cluster\n",
       "0  8.835697  7.869800        0\n",
       "1  9.570828  6.330668        0\n",
       "2  8.024402  6.837615        0\n",
       "3  9.462466  9.249034        0\n",
       "4  8.680856  6.582748        0\n",
       "5  8.951427  6.618216        0\n",
       "6  8.757939  5.964318        0\n",
       "7  8.776854  7.755875        0\n",
       "8  9.865119  7.453920        0\n",
       "9  8.873090  5.521460        0"
      ]
     },
     "execution_count": 23,
     "metadata": {},
     "output_type": "execute_result"
    }
   ],
   "source": [
    "#Fitting our model, creating the column 'cluster' in data \n",
    "kmeans = KMeans(n_clusters = 3)\n",
    "kmeans.fit(data)\n",
    "data['cluster'] = kmeans.labels_\n",
    "data.head(10)"
   ]
  },
  {
   "cell_type": "code",
   "execution_count": 24,
   "metadata": {},
   "outputs": [
    {
     "name": "stdout",
     "output_type": "stream",
     "text": [
      "[[8.93895833 7.19250454]\n",
      " [1.90351295 7.70567765]\n",
      " [5.02751336 5.23179524]]\n"
     ]
    },
    {
     "data": {
      "text/html": [
       "<div>\n",
       "<style scoped>\n",
       "    .dataframe tbody tr th:only-of-type {\n",
       "        vertical-align: middle;\n",
       "    }\n",
       "\n",
       "    .dataframe tbody tr th {\n",
       "        vertical-align: top;\n",
       "    }\n",
       "\n",
       "    .dataframe thead th {\n",
       "        text-align: right;\n",
       "    }\n",
       "</style>\n",
       "<table border=\"1\" class=\"dataframe\">\n",
       "  <thead>\n",
       "    <tr style=\"text-align: right;\">\n",
       "      <th></th>\n",
       "      <th>x</th>\n",
       "      <th>y</th>\n",
       "    </tr>\n",
       "  </thead>\n",
       "  <tbody>\n",
       "    <tr>\n",
       "      <th>0</th>\n",
       "      <td>8.938958</td>\n",
       "      <td>7.192505</td>\n",
       "    </tr>\n",
       "    <tr>\n",
       "      <th>1</th>\n",
       "      <td>1.903513</td>\n",
       "      <td>7.705678</td>\n",
       "    </tr>\n",
       "    <tr>\n",
       "      <th>2</th>\n",
       "      <td>5.027513</td>\n",
       "      <td>5.231795</td>\n",
       "    </tr>\n",
       "  </tbody>\n",
       "</table>\n",
       "</div>"
      ],
      "text/plain": [
       "          x         y\n",
       "0  8.938958  7.192505\n",
       "1  1.903513  7.705678\n",
       "2  5.027513  5.231795"
      ]
     },
     "execution_count": 24,
     "metadata": {},
     "output_type": "execute_result"
    }
   ],
   "source": [
    "#getting predicted centroids\n",
    "centroids = kmeans.cluster_centers_\n",
    "print(centroids)\n",
    "centroids = pd.DataFrame(data = {'x': [centroids[i,0] for i in range(3)], \n",
    "                                 'y': [centroids[i,1] for i in range(3)], })\n",
    "centroids"
   ]
  },
  {
   "cell_type": "code",
   "execution_count": 25,
   "metadata": {},
   "outputs": [],
   "source": [
    "#Make clusters from data\n",
    "cluster1_p = data[data['cluster'] == 0].drop('cluster', axis = 1)\n",
    "cluster2_p = data[data['cluster'] == 1].drop('cluster', axis = 1)\n",
    "cluster3_p = data[data['cluster'] == 2].drop('cluster', axis = 1)"
   ]
  },
  {
   "cell_type": "code",
   "execution_count": 26,
   "metadata": {},
   "outputs": [
    {
     "data": {
      "text/plain": [
       "<matplotlib.collections.PathCollection at 0x75d748>"
      ]
     },
     "execution_count": 26,
     "metadata": {},
     "output_type": "execute_result"
    },
    {
     "data": {
      "image/png": "[encoded data removed]",
      "text/plain": [
       "<Figure size 576x576 with 2 Axes>"
      ]
     },
     "metadata": {
      "needs_background": "light"
     },
     "output_type": "display_data"
    }
   ],
   "source": [
    "#Creating two subplots: first for actual data, second for predicted\n",
    "fig, [ActualAx, PredictAx] = plt.subplots(2)\n",
    "fig.set_size_inches(8, 8)\n",
    "\n",
    "\n",
    "#Predicted clusters \n",
    "PredictAx.scatter(cluster1_p['x'], cluster1_p['y'], color = 'c')\n",
    "PredictAx.scatter(cluster2_p['x'], cluster2_p['y'], color = 'm')\n",
    "PredictAx.scatter(cluster3_p['x'], cluster3_p['y'], color = 'g')\n",
    "\n",
    "#Centroids\n",
    "PredictAx.scatter(centroids['x'], centroids['y'], color = 'k', marker = 'x')\n",
    "\n",
    "#Actual clusters\n",
    "ActualAx.scatter(cluster1['x'], cluster1['y'], color = 'y')\n",
    "ActualAx.scatter(cluster2['x'], cluster2['y'], color = 'r')\n",
    "ActualAx.scatter(cluster3['x'], cluster3['y'], color = 'b')"
   ]
  },
  {
   "cell_type": "markdown",
   "metadata": {},
   "source": [
    "And that is how the K-Means algorithm works!"
   ]
  },
  {
   "cell_type": "code",
   "execution_count": null,
   "metadata": {},
   "outputs": [],
   "source": []
  }
 ],
 "metadata": {
  "kernelspec": {
   "display_name": "Python 3",
   "language": "python",
   "name": "python3"
  },
  "language_info": {
   "codemirror_mode": {
    "name": "ipython",
    "version": 3
   },
   "file_extension": ".py",
   "mimetype": "text/x-python",
   "name": "python",
   "nbconvert_exporter": "python",
   "pygments_lexer": "ipython3",
   "version": "3.8.2"
  }
 },
 "nbformat": 4,
 "nbformat_minor": 4
}
