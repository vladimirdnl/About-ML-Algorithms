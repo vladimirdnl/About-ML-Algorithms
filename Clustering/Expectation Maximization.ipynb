{
 "cells": [
  {
   "cell_type": "markdown",
   "metadata": {},
   "source": [
    "# <font color = 'orange'>Expectation Maximization Algorithm</font>\n",
    "___"
   ]
  },
  {
   "cell_type": "markdown",
   "metadata": {},
   "source": [
    "**EM algorithm** is often used for **clustering** data in Machine Learning.\\\n",
    "It's known as **soft-clustering method** *(Unlike K-Means and K-Medians)*, or method that uses **probability** to decide which point belongs to which cluster.\\\n",
    "Usually, we assume that given data lies in **clusters** within **normal distribution**(Gaussian distribution)."
   ]
  },
  {
   "cell_type": "markdown",
   "metadata": {},
   "source": [
    "## What is EM algorithm exactly?"
   ]
  },
  {
   "cell_type": "markdown",
   "metadata": {},
   "source": [
    "EM algorithm is something that helps us to cluster data using Gaussian Mixture Models.\\\n",
    "There is a variable called latent (invisible) in this algorithm. The variable contains our means of each gaussian($\\mu$), standart deviations of each gaussian($\\sigma$ or covariance matrices) and probabilities of each gaussian ($\\pi$)\\\n",
    "(Roughly speaking, gaussian = cluster)\\\n",
    "\\\n",
    "The algorithm itself consists of two steps: **Expectation** is the first, and **Maximization** is the second one.\n",
    "- In Expectation Step we compute likelihood of point being in each cluster\n",
    "- In Maximization Step we compute our new parameters, in other words, maximize them"
   ]
  },
  {
   "cell_type": "markdown",
   "metadata": {},
   "source": [
    "___\n",
    "## Maths for 1-dimensional example"
   ]
  },
  {
   "cell_type": "markdown",
   "metadata": {},
   "source": [
    "The data: <font size = 4.5>$x = \\begin{bmatrix} \\\n",
    "x_1 \\\\\n",
    "x_2 \\\\\n",
    "\\text{...} \\\\\n",
    "x_p \\\\\n",
    "\\end{bmatrix}$</font>\n",
    "\\\n",
    "(Where $p$ is the number of datapoints)\\\n",
    "\\\n",
    "The variables:\n",
    "<font size = 4.5>$\\mu = \\begin{bmatrix}\\\n",
    "\\mu_1 \\\\\n",
    "\\mu_2 \\\\\n",
    "\\text{...} \\\\\n",
    "\\mu_n \\\\\n",
    "\\end{bmatrix} \\space\\space\\space \\\n",
    "\\sigma = \\begin{bmatrix} \\\n",
    "\\sigma_1 \\\\\n",
    "\\sigma_2 \\\\\n",
    "\\text{...} \\\\\n",
    "\\sigma_n \\\\\n",
    "\\end{bmatrix} \\space\\space\\space \\\n",
    "\\pi = \\begin{bmatrix} \\\n",
    "\\pi_1 \\\\\n",
    "\\pi_2 \\\\\n",
    "\\text{...}\\\\\n",
    "\\pi_n \\\\\n",
    "\\end{bmatrix}$\n",
    "</font>\\\n",
    "\\\n",
    "*(Where $n$ is the number of our clusters)*\\\n",
    "\\\n",
    "And now we have $Z$ as the latent variable: \n",
    "<font size = 4.5>\n",
    "$Z = \\begin{bmatrix} \\\n",
    "\\mu \\\\\n",
    "\\sigma \\\\\n",
    "\\pi \\\\\n",
    "\\end{bmatrix}$\n",
    "</font>"
   ]
  },
  {
   "cell_type": "markdown",
   "metadata": {},
   "source": [
    "### <font color = 'orange'>The algorithm:</font>\n",
    "**Preparation:** The first thing you need to do is to randomly choose parameters in variable $Z$ for each Gaussian.\\\n",
    "\\\n",
    "Then let's start from **Expectation**.\n",
    " - **1 step**: For each data point find probability of each cluster having this point: \\\n",
    " Probability density function (where $c$ is the parameters of our cluster):\\\n",
    " <font size = 4.5>$P(x_i | c) = \\frac{1}{\\sqrt{2\\pi\\sigma_c^2}}exp(-\\frac{{(x_i-\\mu_c)}^2}{2\\sigma^2_c})$</font>\n",
    " - **2 step**: For each data point find conditional probability of belonging to each cluster: \\\n",
    " Formula of conditional probability:\\\n",
    " <font size = 4.5>$c_i = P(c | x_i) = \\frac{P(x_i|c)\\pi_c}{\\sum ^{S} _{s = 1} P(x_i|s)\\pi_s}$</font>\\\n",
    " (where $c$ and $s$ are parameters of clusters, $c_i$ is the probablity of the point belonging to cluster $c$ and S is the number of all clusters)\\\n",
    " \\\n",
    " For our first iteration we need probability($\\pi_c$) to be distributed equally amongst all of the clusters:  $\\pi_c = \\frac{1}{S}$ and frequently isn't maximized(otherwise there are cases in which one Gaussian can grab every point"
   ]
  },
  {
   "cell_type": "markdown",
   "metadata": {},
   "source": [
    "And then go to **Maximization**.\n",
    "- **1 step**:\\\n",
    "Calculate new mean for each Gaussian(we use probability as weights):\\\n",
    "<font size = 4.5>$\\mu_c = \\frac{c_1x_1 + c_2x_2 + \\space\\text{...}\\space + c_n x_n}{c_1 + c_2 + \\space\\text{...}\\space + c_n} $</font>\n",
    "- **2 step**:\\\n",
    "Calculate new varience (take the square root for std) for each Gaussian:\\\n",
    "<font size = 4.5>$\\sigma^2_c = \\frac{c_1(x_1 - \\mu_c)^2 + c_2(x_2-\\mu_c)^2 + \\space\\text{...}\\space + c_n(x_n - \\mu_c)^2 }{c_1 + c_2 + \\space\\text{...}\\space + c_n} $</font>\n",
    "- **3 step (not necessary)**:\\\n",
    "Calculate the probability of a Gaussian:\\\n",
    "<font size = 4.5>$\\pi_c = \\frac{c_1 + c_2 + \\space\\text{...}\\space + c_n}{n}$</font>\\\n",
    "\\\n",
    "\\\n",
    "If the parameters didn't coverge, then our new values of parameters are taken and we repeat calculations one more time, starting from **Expectation**. "
   ]
  },
  {
   "cell_type": "markdown",
   "metadata": {},
   "source": [
    "## Application of 1-d EM"
   ]
  },
  {
   "cell_type": "code",
   "execution_count": 2,
   "metadata": {},
   "outputs": [],
   "source": [
    "#Importing all needed libraries, also setting matplotlib to 'inline' mode\n",
    "import numpy as np\n",
    "import math\n",
    "from matplotlib import pyplot as plt\n",
    "from scipy import stats\n",
    "%matplotlib inline"
   ]
  },
  {
   "cell_type": "code",
   "execution_count": 3,
   "metadata": {},
   "outputs": [
    {
     "data": {
      "text/plain": [
       "<matplotlib.collections.PathCollection at 0x1112daa8>"
      ]
     },
     "execution_count": 3,
     "metadata": {},
     "output_type": "execute_result"
    },
    {
     "data": {
      "image/png": "[encoded data removed]",
      "text/plain": [
       "<Figure size 720x72 with 1 Axes>"
      ]
     },
     "metadata": {
      "needs_background": "light"
     },
     "output_type": "display_data"
    }
   ],
   "source": [
    "#Random seed for same results\n",
    "np.random.seed(149)\n",
    "\n",
    "#Creating dataset: choosing means and deviations for two clusters\n",
    "c1_m = 10\n",
    "c1_std = 3\n",
    "c2_m = 5\n",
    "c2_std = 0.9\n",
    "\n",
    "#Then creating points for dataset, we use 20 from each normal distribution:\n",
    "c1 = np.random.normal(c1_m, c1_std, size = 20)\n",
    "c2 = np.random.normal(c2_m, c2_std, size = 20)\n",
    "\n",
    "#Plot the dataset\n",
    "fig= plt.figure(figsize = (10, 1))\n",
    "ax = plt.axes()\n",
    "ax.set_yticks([])\n",
    "ax.scatter(c1, [1 for i in range(len(c1))], c = 'green')\n",
    "ax.scatter(c2, [1 for i in range(len(c2))],c = 'orange')"
   ]
  },
  {
   "cell_type": "code",
   "execution_count": 4,
   "metadata": {},
   "outputs": [
    {
     "data": {
      "text/plain": [
       "<matplotlib.collections.PathCollection at 0x121a5e68>"
      ]
     },
     "execution_count": 4,
     "metadata": {},
     "output_type": "execute_result"
    },
    {
     "data": {
      "image/png": "[encoded data removed]",
      "text/plain": [
       "<Figure size 720x72 with 1 Axes>"
      ]
     },
     "metadata": {
      "needs_background": "light"
     },
     "output_type": "display_data"
    }
   ],
   "source": [
    "#Сreating one dataset from two groups of points\n",
    "allpoints = np.concatenate((c1,c2))\n",
    "\n",
    "#Plotting the dataset without dividing it into clusters\n",
    "fig1= plt.figure(figsize = (10, 1))\n",
    "ax1 = plt.axes()\n",
    "ax1.set_yticks([])\n",
    "ax1.scatter(allpoints,[1 for i in range(len(allpoints))])"
   ]
  },
  {
   "cell_type": "code",
   "execution_count": 5,
   "metadata": {},
   "outputs": [
    {
     "data": {
      "text/plain": [
       "{'cluster1': [9.977604707333839, 2.831846487044749],\n",
       " 'cluster2': [5.07841323580085, 0.862971796057043]}"
      ]
     },
     "execution_count": 5,
     "metadata": {},
     "output_type": "execute_result"
    }
   ],
   "source": [
    "#Then we calculate the original mean and deviation from points we created\n",
    "param = {'cluster1': [np.mean(c1), np.std(c1)], 'cluster2': [np.mean(c2), np.std(c2)]}\n",
    "param"
   ]
  },
  {
   "cell_type": "code",
   "execution_count": 6,
   "metadata": {},
   "outputs": [],
   "source": [
    "#Let's save our parameters in variables and then plot the distributions\n",
    "c1_m_p = param['cluster1'][0]\n",
    "c1_std_p = param['cluster1'][1]\n",
    "c2_m_p = param['cluster2'][0]\n",
    "c2_std_p = param['cluster2'][1]"
   ]
  },
  {
   "cell_type": "code",
   "execution_count": 7,
   "metadata": {},
   "outputs": [
    {
     "data": {
      "text/plain": [
       "[<matplotlib.lines.Line2D at 0x121d9fb8>]"
      ]
     },
     "execution_count": 7,
     "metadata": {},
     "output_type": "execute_result"
    },
    {
     "data": {
      "image/png": "[encoded data removed]",
      "text/plain": [
       "<Figure size 720x504 with 1 Axes>"
      ]
     },
     "metadata": {
      "needs_background": "light"
     },
     "output_type": "display_data"
    }
   ],
   "source": [
    "#Plotting distributions with a dataset\n",
    "fig2= plt.figure(figsize = (10, 7))\n",
    "ax2 = plt.axes()\n",
    "ax2.set_yticks([])\n",
    "ax2.scatter(allpoints,[0.0005 for i in range(len(allpoints))])\n",
    "x = np.linspace(-3, 20, 1000)\n",
    "ax2.plot(x, stats.norm(c1_m_p, c1_std_p).pdf(x), c = 'green')\n",
    "ax2.plot(x, stats.norm(c2_m_p, c2_std_p).pdf(x), c = 'orange')"
   ]
  },
  {
   "cell_type": "code",
   "execution_count": 8,
   "metadata": {},
   "outputs": [],
   "source": [
    "#Creating Expectation Maximization Algorithm\n",
    "def EM1d (max_iter, data, cl_num, tol): \n",
    "    '''\n",
    "    -----------------------------------------------------------\n",
    "    EM Algorithm for 1-dimensional dataset\n",
    "    \n",
    "    max_iter: maximum number of iterations\n",
    "    data: dataset\n",
    "    cl_num: number of mixture models you want to create\n",
    "    tol: tolerance, or limit of convergence\n",
    "    \n",
    "    \n",
    "    Description: It's used to find parameters of mixture models \n",
    "                         we want to fit to our data\n",
    "    \n",
    "    Example: \n",
    "    means, stds = EM1d(iterations = 100, data = dataset,\n",
    "                        clusters_num = 2,tolerance = 0.001) \n",
    "    \n",
    "    ------------------------------------------------------------\n",
    "    '''\n",
    "  \n",
    "    #Preparation: randomly initialize means and standart deviations\n",
    "    means = np.random.random(cl_num)*5\n",
    "    stds = np.random.random(cl_num)*5\n",
    "    \n",
    "    #algorithm is algorithm, so we add the iterations\n",
    "    for it in range(max_iter):\n",
    "        \n",
    "    #Expectation\n",
    "        #1 step: Calculating likelihoods using probability density function\n",
    "        lhs = []\n",
    "        for cluster in range(cl_num):\n",
    "            #get likelihoods of one cluster\n",
    "            likelihood_tocluster = stats.norm(means[cluster], stds[cluster]).pdf(allpoints)\n",
    "            #add the likelihoods to array of other clusters' likelihoods\n",
    "            lhs.append(likelihood_tocluster)\n",
    "        \n",
    "        #find total likelihoods of every data point:\n",
    "        #first we set total likelihoods to first cluster likelihoods\n",
    "        lhs_total = lhs[0]\n",
    "        for cluster in range(1, cl_num):\n",
    "            #and then add other clusters' likelihoods\n",
    "            lhs_total = lhs_total + lhs[cluster]\n",
    "        #so, we found all the likelihoods\n",
    "        \n",
    "        #2 step:\n",
    "        #For every point lets find weights or,\n",
    "        #as I called them earlier, \"conditional probabilities of belonging to each cluster\"\n",
    "        weights = []\n",
    "        for cluster in range(cl_num):\n",
    "            #weights for one cluster\n",
    "            weight_clust = np.divide(lhs[cluster],lhs_total)\n",
    "            #add to array of other clusters' weights\n",
    "            weights.append(weight_clust)\n",
    "            \n",
    "    #Maximization\n",
    "        #then we find new means and standart deviations:\n",
    "        new_means = []\n",
    "        new_stds = []\n",
    "        for cluster in range(cl_num):\n",
    "            #find mean for one cluster\n",
    "            new_mean_clust = np.sum(allpoints * weights[cluster])/np.sum(weights[cluster])\n",
    "            #add it to other clusters' means\n",
    "            new_means.append(new_mean_clust)\n",
    "            \n",
    "            #find variance for one cluster\n",
    "            new_variance = np.sum(weights[cluster] * np.power((allpoints - new_mean_clust),2)) / np.sum(weights[cluster])\n",
    "            #calculate the square root - standart deviation\n",
    "            new_std_clust = math.sqrt(new_variance)\n",
    "            #also add it to other clusters' standart deviations\n",
    "            new_stds.append(new_std_clust)\n",
    "            \n",
    "        #Let's calculate the tolerance:\n",
    "        #My way is to find the maximum amongst all the absolute differences of means and standart deviations\n",
    "        delta_mean = max(abs(np.subtract(means, new_means)))\n",
    "        delta_std = max(abs(np.subtract(stds, new_stds)))\n",
    "        #and if they are less or equal than the tolerance, we stop the algorithm\n",
    "        if delta_mean<=tol and delta_std<=tol :\n",
    "            break\n",
    "        #but if they aren't, we take our new data and perform the next iteration\n",
    "        means = new_means\n",
    "        stds = new_stds\n",
    "    #At the end, just return the parameters\n",
    "    return means, stds"
   ]
  },
  {
   "cell_type": "code",
   "execution_count": 12,
   "metadata": {
    "scrolled": false
   },
   "outputs": [
    {
     "name": "stdout",
     "output_type": "stream",
     "text": [
      "[4.989111714482643, 10.145356884715428]\n",
      "[1.0735169942265699, 2.530255548793509]\n"
     ]
    }
   ],
   "source": [
    "#algorithm in use\n",
    "means, stds = EM1d(max_iter = 25, data = allpoints, cl_num = 2, tol = 0.0001)\n",
    "#let's print parameters\n",
    "print(means)\n",
    "print(stds)"
   ]
  },
  {
   "cell_type": "code",
   "execution_count": 10,
   "metadata": {},
   "outputs": [
    {
     "name": "stdout",
     "output_type": "stream",
     "text": [
      "{'cluster1': [9.977604707333839, 2.831846487044749], 'cluster2': [5.07841323580085, 0.862971796057043]}\n"
     ]
    }
   ],
   "source": [
    "#And these are the parameters computed in the beginning\n",
    "print(param)\n",
    "#they are almost the same"
   ]
  },
  {
   "cell_type": "code",
   "execution_count": 13,
   "metadata": {},
   "outputs": [
    {
     "data": {
      "image/png": "[encoded data removed]",
      "text/plain": [
       "<Figure size 720x504 with 1 Axes>"
      ]
     },
     "metadata": {
      "needs_background": "light"
     },
     "output_type": "display_data"
    }
   ],
   "source": [
    "#Let's plot distributions with parameters from the algorithm\n",
    "fig3= plt.figure(figsize = (10, 7))\n",
    "ax3 = plt.axes()\n",
    "ax3.set_yticks([])\n",
    "ax3.scatter(allpoints,[0.0005 for i in range(len(allpoints))])\n",
    "x = np.linspace(-3, 20, 1000)\n",
    "for i in range(len(means)):\n",
    "    ax3.plot(x, stats.norm(means[i], stds[i]).pdf(x), c = 'magenta')"
   ]
  },
  {
   "cell_type": "markdown",
   "metadata": {},
   "source": [
    "And this is the end of 1-dimensional **Expectation Maximization** Algorithm!"
   ]
  },
  {
   "cell_type": "markdown",
   "metadata": {},
   "source": [
    "___\n",
    "## Math for 2- or more dimensional example"
   ]
  },
  {
   "cell_type": "markdown",
   "metadata": {},
   "source": [
    " The data is represented this way: <font size = 4.5>$X = \\begin{bmatrix} \\\n",
    " x_1 & y_1 & z_1 & \\text{.} & k_1\\\\\n",
    " x_2 & y_2 & z_2 & \\text{.} & k_2\\\\\n",
    " \\text{.} & \\text{.} & \\text{.} & \\text{.} & \\text{.}\\\\\n",
    " x_p & y_p & z_p & \\text{.} & k_p\\\\\n",
    " \\end{bmatrix}$</font>\\\n",
    " (where $k$ is the last dimension's variable)"
   ]
  },
  {
   "cell_type": "markdown",
   "metadata": {},
   "source": [
    "Pretty much everything remains the same, only instead of *standart deviation* **varience-covarience matrix** is found.\\\n",
    "So what is the **varience-covarience matrix**?\\\n",
    "The **varience-covarience matrix** is the matrix which contains both **variences** (along the diagonal) and **covariences** (along the sides) in one matrix.\\\n",
    "\\\n",
    "<font size = 4.5>$\\Sigma = \\begin{bmatrix}\\\n",
    "\\frac{\\sum x_1^2}{P} & \\frac{\\sum x_1x_2}{P} & \\text{.} & \\frac{\\sum x_1x_d}{P} \\\\\n",
    "\\frac{\\sum x_2x_1}{P} & \\frac{\\sum x_2^2}{P} & \\text{.} & \\frac{\\sum x_2x_d}{P} \\\\\n",
    "\\text{.} & \\text{.} & \\text{.} & \\text{.} \\\\\n",
    "\\frac{\\sum x_dx_1}{P} & \\frac{\\sum x_dx_2}{P} & \\text{.} & \\frac{\\sum x_d^2}{P} \\\\\n",
    "\\end{bmatrix}$</font>\\\n",
    "\\\n",
    "Where $P$ is the number of data points\\\n",
    "$d$ is the number of dimensions\\\n",
    "$x_i$ is the deviation score of the ith variable, for example:\n",
    "$x_1 = (X_i - \\overline X$), $x_2 = (Y_i - \\overline Y)$, $x_3 = (Z_i - \\overline Z)$ and $x_d = (K_i - \\overline K)$"
   ]
  },
  {
   "cell_type": "markdown",
   "metadata": {},
   "source": [
    " The variables: <font size = 4.5>$\\mu = \\begin{bmatrix}\\\n",
    " \\mu_{1,1} & \\mu_{1,2} & \\text{.} & \\mu_{1,d} \\\\\n",
    " \\mu_{2,1} & \\mu_{2,2} & \\text{.} & \\mu_{2,d} \\\\\n",
    " \\text{.} & \\text{.} & \\text{.} & \\text{.} \\\\\n",
    " \\mu_{n,1} & \\mu_{n,2} & \\text{.} & \\mu_{n,d}\n",
    " \\end{bmatrix} \\space\\space\\space \\\n",
    " \\Sigma = \\begin{bmatrix} \\\n",
    " \\Sigma_1 \\\\\n",
    " \\Sigma_2 \\\\\n",
    " \\text{...} \\\\\n",
    " \\Sigma_n\n",
    " \\end{bmatrix} \\space\\space\\space \\\n",
    " \\pi = \\begin{bmatrix} \\\n",
    " \\pi_1 \\\\\n",
    " \\pi_2 \\\\\n",
    " \\text{...} \\\\\n",
    " \\pi_n \\\\\n",
    " \\end{bmatrix}$</font> \\\n",
    " \\\n",
    " where $n$ is the number of gaussians, and $d$ is the number of dimensions\n",
    " \\\n",
    " \\\n",
    " And now we have $Z$ such as:\n",
    " <font size = 4.5>$Z = \\begin{bmatrix} \\\n",
    " \\mu \\\\\n",
    " \\Sigma \\\\\n",
    " \\pi\n",
    " \\end{bmatrix}$</font>\n",
    " "
   ]
  },
  {
   "cell_type": "markdown",
   "metadata": {},
   "source": [
    "### <font color = 'orange'>The algorithm:</font>\n",
    "**Preparation:** randomly initialize the parameters and covarience matrices\\\n",
    "\\\n",
    "Let's start from **Expectation**:\n",
    "- **1 step**: For each data point find probability of each cluster having this point: \\\n",
    " Probability density function (where $c$ is parameters of our cluster):\\\n",
    "<font size = 4.5>$P(\\vec x | c) = \\frac{1}{\\sqrt{2\\pi|\\Sigma_c|}} exp(-\\frac{1}{2} (\\vec x_i - \\vec \\mu_c)^T \\Sigma^{-1} (\\vec x_i - \\vec \\mu_c)\\space)$</font>\n",
    "- **2 step**:  For each data point find conditional probability of belonging to each cluster: \\\n",
    " Formula of conditional probability:\\\n",
    " <font size = 4.5>$с_i = P(c|\\vec x) = \\frac{P(\\vec x | c)\\pi_c}{\\sum _{s = 1} ^{S} P(\\vec x| s)\\pi_s}$</font>\\\n",
    " (where $c$ and $s$ are parameters of clusters, $c_i$ is the probablity of the point belonging to cluster $c$ and S is the number of all clusters)\\\n",
    " \\\n",
    " For our first iteration we need probability($\\pi_c$) to be distributed equally amongst all of the clusters:  $\\pi_c = \\frac{1}{S}$ and frequently isn't maximized(otherwise there are cases in which one Gaussian can grab every point)"
   ]
  },
  {
   "cell_type": "markdown",
   "metadata": {},
   "source": [
    "And then go to **Maximization**.\n",
    "- **1 step**:\\\n",
    "Calculate new mean for each Gaussian(we use probability as weights):\\\n",
    "<font size = 4.5>$\\mu_c ^{(j)} = \\sum _{i = 1}^{n} (\\frac{c_i}{\\pi_c n}) x_{i,j}$</font>\n",
    "\n",
    "\n",
    "- **2 step**:\\\n",
    "Calculate the varience-covarience matrix\\\n",
    "<font size = 4.5>$\\Sigma_c = \\begin{bmatrix}\\\n",
    "\\Sigma_{1,1} & \\Sigma_{1,2} & \\text{.} & \\Sigma_{1,d} \\\\\n",
    "\\Sigma_{2,1} & \\Sigma_{2,2} & \\text{.} & \\Sigma_{2,d} \\\\\n",
    "\\text{.} & \\text{.} & \\text{.} & \\text{.} &\\\\\n",
    "\\Sigma_{d,1} & \\Sigma_{d,2} & \\text{.} & \\Sigma_{d,d} \\\\\n",
    "\\end{bmatrix}$</font>\\\n",
    "\\\n",
    "And:\\\n",
    "<font size = 4.5>$\\Sigma_c^{(j,k)} = \\sum _{i = 1}^{n} (\\frac{c_i}{\\pi_c n}) (x_{i,j} - \\mu_c^{(j)})(x_{i,k} - \\mu_c^{(k)})$</font>\n",
    "\n",
    "\n",
    "- **3 step**(not necessary):\\\n",
    "Calculate the prior probability of choosing the gaussian:\\\n",
    "<font size = 4.5>$\\pi_c = \\frac{1}{n} \\sum _{i = 1}^{N} P(c| \\vec x)$</font>\\\n",
    "\\\n",
    "\\\n",
    "If the parameters didn't coverge, then our new values of parameters are taken and we repeat calculations one more time, starting from **Expectation**. "
   ]
  },
  {
   "cell_type": "code",
   "execution_count": null,
   "metadata": {},
   "outputs": [],
   "source": []
  }
 ],
 "metadata": {
  "kernelspec": {
   "display_name": "Python 3",
   "language": "python",
   "name": "python3"
  },
  "language_info": {
   "codemirror_mode": {
    "name": "ipython",
    "version": 3
   },
   "file_extension": ".py",
   "mimetype": "text/x-python",
   "name": "python",
   "nbconvert_exporter": "python",
   "pygments_lexer": "ipython3",
   "version": "3.8.2"
  }
 },
 "nbformat": 4,
 "nbformat_minor": 4
}
