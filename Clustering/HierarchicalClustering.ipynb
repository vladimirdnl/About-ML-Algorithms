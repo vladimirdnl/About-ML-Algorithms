{
 "cells": [
  {
   "cell_type": "markdown",
   "metadata": {},
   "source": [
    "# <font color = 'orange'>Hierarchical Clustering Algorithm</font>"
   ]
  },
  {
   "cell_type": "markdown",
   "metadata": {},
   "source": [
    "**Hierarchical Clustering** is the clustering algorithm used in Machine Learning.\\\n",
    "The **advantage** of using this type of clustering is that along with computing the algorithm there is a **dendrogram**(tree-type diagram of how clusters were formed), which gives us **a lot more info** about the data.\\\n",
    "However, we **cannot** apply it to **big datasets**: in these cases the **K-Means algorithm** is used."
   ]
  },
  {
   "cell_type": "markdown",
   "metadata": {},
   "source": [
    "## Types"
   ]
  },
  {
   "cell_type": "markdown",
   "metadata": {},
   "source": [
    "There are **two types** of this algorithm: \n",
    "- 1) **Agglomerative**, or Bottom-Up\\\n",
    "In this type of algorithm we combine all the **small** clusters until there is **one big** cluster \n",
    "- 2) **Divisive**, or Top-Down\n",
    "In this type of algorithm we divide clusters from **one big** cluster to **small** clusters.\\\n",
    "\\\n",
    "**Agglomerative type** is usually used, because the maths is simpler, thus, making it **easier** to apply."
   ]
  },
  {
   "cell_type": "markdown",
   "metadata": {},
   "source": [
    "___\n",
    "## Agglomerative Hierarchichal Clustering"
   ]
  },
  {
   "cell_type": "markdown",
   "metadata": {},
   "source": [
    "In agglomerative type we start from every data point being a small cluster. Then we combine the points using one of the likage methods.\\\n",
    "\\\n",
    "There are different types of linkage: \n",
    "- **Single linkage** (Nearest Neighbor)\n",
    "- **Complete linkage** (Farthest Neighbor)\n",
    "- **Average linkage** (Average of distance from each point in one cluster to every point in another cluster)\n",
    "- **Wards Method**\n",
    "- Between-Group Average linkage (UPGMA)\n",
    "- Equilibrious Between-Group Average linkage (WPGMA)\n",
    "- Centroid method\n",
    "- Minival Varience method\n",
    "- Minimal Sum-Of-Squares method\\\n",
    "and so on...\n",
    "\n",
    "All the methods are used, so pick up the one which gives you more information about the data."
   ]
  },
  {
   "cell_type": "markdown",
   "metadata": {},
   "source": [
    "## Dendrogram"
   ]
  },
  {
   "cell_type": "markdown",
   "metadata": {},
   "source": [
    "**Dendrogram** shows how the clusters were formed, and **height of node lines** shows the dissimilarity of two connected clusters."
   ]
  },
  {
   "cell_type": "markdown",
   "metadata": {},
   "source": [
    "___\n",
    "## Single Method Application"
   ]
  },
  {
   "cell_type": "markdown",
   "metadata": {},
   "source": [
    "In Single Method of hierarchical clustering we connect clusters by the least distance between nearest points of two clusters(Nearest Neighbors).\n"
   ]
  },
  {
   "cell_type": "code",
   "execution_count": 67,
   "metadata": {},
   "outputs": [],
   "source": [
    "import numpy as np\n",
    "import pandas as pd\n",
    "from matplotlib import pyplot as plt\n",
    "%matplotlib inline"
   ]
  },
  {
   "cell_type": "code",
   "execution_count": 68,
   "metadata": {},
   "outputs": [
    {
     "data": {
      "text/plain": [
       "<matplotlib.legend.Legend at 0x13d00e38>"
      ]
     },
     "execution_count": 68,
     "metadata": {},
     "output_type": "execute_result"
    },
    {
     "data": {
      "image/png": "[encoded data removed]",
      "text/plain": [
       "<Figure size 432x288 with 1 Axes>"
      ]
     },
     "metadata": {
      "needs_background": "light"
     },
     "output_type": "display_data"
    }
   ],
   "source": [
    "np.random.seed(149)\n",
    "\n",
    "start_point1 = [np.random.randint(8, 11), np.random.randint(5, 10)]\n",
    "start_point2 = [np.random.randint(4, 7), np.random.randint(5, 10)]\n",
    "start_point3 = [np.random.randint(1, 3), np.random.randint(5, 10)]\n",
    "\n",
    "#Creating data points\n",
    "cluster1 = [[start_point1[0] + np.random.randn()/2, start_point1[1] + np.random.randn()/3] for i in range(np.random.randint(5,8))]\n",
    "cluster1 = pd.DataFrame(data = cluster1, columns = ['x', 'y'])\n",
    "\n",
    "cluster2 = [[start_point2[0] + np.random.randn()/2, start_point2[1] + np.random.randn()/3] for i in range(np.random.randint(5,8))]\n",
    "cluster2 = pd.DataFrame(data = cluster2, columns = ['x', 'y'])\n",
    "\n",
    "cluster3 = [[start_point3[0] + np.random.randn()/2, start_point3[1] + np.random.randn()/3] for i in range(np.random.randint(5,8))]\n",
    "cluster3 = pd.DataFrame(data = cluster3, columns = ['x', 'y'])\n",
    "\n",
    "#plotting our graph: cluster points\n",
    "\n",
    "plt.scatter(cluster1['x'], cluster1['y'], color = 'y', label = 'Yellow cluster')\n",
    "plt.scatter(cluster2['x'], cluster2['y'], color = 'r', label = 'Red cluster')\n",
    "plt.scatter(cluster3['x'], cluster3['y'], color = 'b', label = 'Blue cluster')\n",
    "\n",
    "plt.legend()"
   ]
  },
  {
   "cell_type": "code",
   "execution_count": 69,
   "metadata": {},
   "outputs": [
    {
     "data": {
      "text/html": [
       "<div>\n",
       "<style scoped>\n",
       "    .dataframe tbody tr th:only-of-type {\n",
       "        vertical-align: middle;\n",
       "    }\n",
       "\n",
       "    .dataframe tbody tr th {\n",
       "        vertical-align: top;\n",
       "    }\n",
       "\n",
       "    .dataframe thead th {\n",
       "        text-align: right;\n",
       "    }\n",
       "</style>\n",
       "<table border=\"1\" class=\"dataframe\">\n",
       "  <thead>\n",
       "    <tr style=\"text-align: right;\">\n",
       "      <th></th>\n",
       "      <th>x</th>\n",
       "      <th>y</th>\n",
       "    </tr>\n",
       "  </thead>\n",
       "  <tbody>\n",
       "    <tr>\n",
       "      <th>0</th>\n",
       "      <td>8.322179</td>\n",
       "      <td>8.708514</td>\n",
       "    </tr>\n",
       "    <tr>\n",
       "      <th>1</th>\n",
       "      <td>8.893037</td>\n",
       "      <td>8.985107</td>\n",
       "    </tr>\n",
       "    <tr>\n",
       "      <th>2</th>\n",
       "      <td>8.338194</td>\n",
       "      <td>9.450564</td>\n",
       "    </tr>\n",
       "    <tr>\n",
       "      <th>3</th>\n",
       "      <td>8.784793</td>\n",
       "      <td>8.543341</td>\n",
       "    </tr>\n",
       "    <tr>\n",
       "      <th>4</th>\n",
       "      <td>8.836645</td>\n",
       "      <td>8.463659</td>\n",
       "    </tr>\n",
       "    <tr>\n",
       "      <th>5</th>\n",
       "      <td>8.503515</td>\n",
       "      <td>8.858682</td>\n",
       "    </tr>\n",
       "    <tr>\n",
       "      <th>6</th>\n",
       "      <td>5.106744</td>\n",
       "      <td>8.303370</td>\n",
       "    </tr>\n",
       "    <tr>\n",
       "      <th>7</th>\n",
       "      <td>4.345506</td>\n",
       "      <td>8.146347</td>\n",
       "    </tr>\n",
       "    <tr>\n",
       "      <th>8</th>\n",
       "      <td>5.083386</td>\n",
       "      <td>7.970331</td>\n",
       "    </tr>\n",
       "    <tr>\n",
       "      <th>9</th>\n",
       "      <td>5.498708</td>\n",
       "      <td>8.332163</td>\n",
       "    </tr>\n",
       "    <tr>\n",
       "      <th>10</th>\n",
       "      <td>4.721323</td>\n",
       "      <td>7.913042</td>\n",
       "    </tr>\n",
       "    <tr>\n",
       "      <th>11</th>\n",
       "      <td>1.494276</td>\n",
       "      <td>7.507493</td>\n",
       "    </tr>\n",
       "    <tr>\n",
       "      <th>12</th>\n",
       "      <td>2.037273</td>\n",
       "      <td>7.162416</td>\n",
       "    </tr>\n",
       "    <tr>\n",
       "      <th>13</th>\n",
       "      <td>2.178030</td>\n",
       "      <td>6.650018</td>\n",
       "    </tr>\n",
       "    <tr>\n",
       "      <th>14</th>\n",
       "      <td>2.003870</td>\n",
       "      <td>7.610869</td>\n",
       "    </tr>\n",
       "    <tr>\n",
       "      <th>15</th>\n",
       "      <td>2.133682</td>\n",
       "      <td>7.171432</td>\n",
       "    </tr>\n",
       "    <tr>\n",
       "      <th>16</th>\n",
       "      <td>2.126301</td>\n",
       "      <td>7.497389</td>\n",
       "    </tr>\n",
       "  </tbody>\n",
       "</table>\n",
       "</div>"
      ],
      "text/plain": [
       "           x         y\n",
       "0   8.322179  8.708514\n",
       "1   8.893037  8.985107\n",
       "2   8.338194  9.450564\n",
       "3   8.784793  8.543341\n",
       "4   8.836645  8.463659\n",
       "5   8.503515  8.858682\n",
       "6   5.106744  8.303370\n",
       "7   4.345506  8.146347\n",
       "8   5.083386  7.970331\n",
       "9   5.498708  8.332163\n",
       "10  4.721323  7.913042\n",
       "11  1.494276  7.507493\n",
       "12  2.037273  7.162416\n",
       "13  2.178030  6.650018\n",
       "14  2.003870  7.610869\n",
       "15  2.133682  7.171432\n",
       "16  2.126301  7.497389"
      ]
     },
     "execution_count": 69,
     "metadata": {},
     "output_type": "execute_result"
    }
   ],
   "source": [
    "#Creating a dataset from points\n",
    "data = pd.DataFrame(columns = ['x', 'y'])\n",
    "data['x'] = pd.concat([cluster1['x'], cluster2['x'], cluster3['x']], ignore_index = True)\n",
    "data['y'] = pd.concat([cluster1['y'], cluster2['y'], cluster3['y']], ignore_index = True)\n",
    "data"
   ]
  },
  {
   "cell_type": "code",
   "execution_count": 70,
   "metadata": {},
   "outputs": [
    {
     "data": {
      "text/html": [
       "<div>\n",
       "<style scoped>\n",
       "    .dataframe tbody tr th:only-of-type {\n",
       "        vertical-align: middle;\n",
       "    }\n",
       "\n",
       "    .dataframe tbody tr th {\n",
       "        vertical-align: top;\n",
       "    }\n",
       "\n",
       "    .dataframe thead th {\n",
       "        text-align: right;\n",
       "    }\n",
       "</style>\n",
       "<table border=\"1\" class=\"dataframe\">\n",
       "  <thead>\n",
       "    <tr style=\"text-align: right;\">\n",
       "      <th></th>\n",
       "      <th>x</th>\n",
       "      <th>y</th>\n",
       "      <th>cluster</th>\n",
       "    </tr>\n",
       "  </thead>\n",
       "  <tbody>\n",
       "    <tr>\n",
       "      <th>0</th>\n",
       "      <td>8.322179</td>\n",
       "      <td>8.708514</td>\n",
       "      <td>0</td>\n",
       "    </tr>\n",
       "    <tr>\n",
       "      <th>1</th>\n",
       "      <td>8.893037</td>\n",
       "      <td>8.985107</td>\n",
       "      <td>0</td>\n",
       "    </tr>\n",
       "    <tr>\n",
       "      <th>2</th>\n",
       "      <td>8.338194</td>\n",
       "      <td>9.450564</td>\n",
       "      <td>0</td>\n",
       "    </tr>\n",
       "    <tr>\n",
       "      <th>3</th>\n",
       "      <td>8.784793</td>\n",
       "      <td>8.543341</td>\n",
       "      <td>0</td>\n",
       "    </tr>\n",
       "    <tr>\n",
       "      <th>4</th>\n",
       "      <td>8.836645</td>\n",
       "      <td>8.463659</td>\n",
       "      <td>0</td>\n",
       "    </tr>\n",
       "    <tr>\n",
       "      <th>5</th>\n",
       "      <td>8.503515</td>\n",
       "      <td>8.858682</td>\n",
       "      <td>0</td>\n",
       "    </tr>\n",
       "    <tr>\n",
       "      <th>6</th>\n",
       "      <td>5.106744</td>\n",
       "      <td>8.303370</td>\n",
       "      <td>2</td>\n",
       "    </tr>\n",
       "    <tr>\n",
       "      <th>7</th>\n",
       "      <td>4.345506</td>\n",
       "      <td>8.146347</td>\n",
       "      <td>2</td>\n",
       "    </tr>\n",
       "    <tr>\n",
       "      <th>8</th>\n",
       "      <td>5.083386</td>\n",
       "      <td>7.970331</td>\n",
       "      <td>2</td>\n",
       "    </tr>\n",
       "    <tr>\n",
       "      <th>9</th>\n",
       "      <td>5.498708</td>\n",
       "      <td>8.332163</td>\n",
       "      <td>2</td>\n",
       "    </tr>\n",
       "    <tr>\n",
       "      <th>10</th>\n",
       "      <td>4.721323</td>\n",
       "      <td>7.913042</td>\n",
       "      <td>2</td>\n",
       "    </tr>\n",
       "    <tr>\n",
       "      <th>11</th>\n",
       "      <td>1.494276</td>\n",
       "      <td>7.507493</td>\n",
       "      <td>1</td>\n",
       "    </tr>\n",
       "    <tr>\n",
       "      <th>12</th>\n",
       "      <td>2.037273</td>\n",
       "      <td>7.162416</td>\n",
       "      <td>1</td>\n",
       "    </tr>\n",
       "    <tr>\n",
       "      <th>13</th>\n",
       "      <td>2.178030</td>\n",
       "      <td>6.650018</td>\n",
       "      <td>1</td>\n",
       "    </tr>\n",
       "    <tr>\n",
       "      <th>14</th>\n",
       "      <td>2.003870</td>\n",
       "      <td>7.610869</td>\n",
       "      <td>1</td>\n",
       "    </tr>\n",
       "    <tr>\n",
       "      <th>15</th>\n",
       "      <td>2.133682</td>\n",
       "      <td>7.171432</td>\n",
       "      <td>1</td>\n",
       "    </tr>\n",
       "    <tr>\n",
       "      <th>16</th>\n",
       "      <td>2.126301</td>\n",
       "      <td>7.497389</td>\n",
       "      <td>1</td>\n",
       "    </tr>\n",
       "  </tbody>\n",
       "</table>\n",
       "</div>"
      ],
      "text/plain": [
       "           x         y  cluster\n",
       "0   8.322179  8.708514        0\n",
       "1   8.893037  8.985107        0\n",
       "2   8.338194  9.450564        0\n",
       "3   8.784793  8.543341        0\n",
       "4   8.836645  8.463659        0\n",
       "5   8.503515  8.858682        0\n",
       "6   5.106744  8.303370        2\n",
       "7   4.345506  8.146347        2\n",
       "8   5.083386  7.970331        2\n",
       "9   5.498708  8.332163        2\n",
       "10  4.721323  7.913042        2\n",
       "11  1.494276  7.507493        1\n",
       "12  2.037273  7.162416        1\n",
       "13  2.178030  6.650018        1\n",
       "14  2.003870  7.610869        1\n",
       "15  2.133682  7.171432        1\n",
       "16  2.126301  7.497389        1"
      ]
     },
     "execution_count": 70,
     "metadata": {},
     "output_type": "execute_result"
    }
   ],
   "source": [
    "from sklearn.cluster import AgglomerativeClustering\n",
    "model = AgglomerativeClustering(n_clusters = 3, linkage = 'single')\n",
    "model.fit(data)\n",
    "data['cluster'] = model.labels_\n",
    "data"
   ]
  },
  {
   "cell_type": "code",
   "execution_count": 71,
   "metadata": {},
   "outputs": [],
   "source": [
    "#Make clusters from data\n",
    "cluster1_p = data[data['cluster'] == 0].drop('cluster', axis = 1)\n",
    "cluster2_p = data[data['cluster'] == 1].drop('cluster', axis = 1)\n",
    "cluster3_p = data[data['cluster'] == 2].drop('cluster', axis = 1)"
   ]
  },
  {
   "cell_type": "code",
   "execution_count": 72,
   "metadata": {},
   "outputs": [
    {
     "data": {
      "text/plain": [
       "<matplotlib.collections.PathCollection at 0x137807f0>"
      ]
     },
     "execution_count": 72,
     "metadata": {},
     "output_type": "execute_result"
    },
    {
     "data": {
      "image/png": "[encoded data removed]",
      "text/plain": [
       "<Figure size 576x576 with 2 Axes>"
      ]
     },
     "metadata": {
      "needs_background": "light"
     },
     "output_type": "display_data"
    }
   ],
   "source": [
    "#Creating two subplots: first for actual data, second for predicted\n",
    "fig, [ActualAx, PredictAx] = plt.subplots(2)\n",
    "fig.set_size_inches(8, 8)\n",
    "\n",
    "\n",
    "#Predicted clusters \n",
    "PredictAx.scatter(cluster1_p['x'], cluster1_p['y'], color = 'c')\n",
    "PredictAx.scatter(cluster2_p['x'], cluster2_p['y'], color = 'm')\n",
    "PredictAx.scatter(cluster3_p['x'], cluster3_p['y'], color = 'g')\n",
    "\n",
    "#Actual clusters\n",
    "ActualAx.scatter(cluster1['x'], cluster1['y'], color = 'y')\n",
    "ActualAx.scatter(cluster2['x'], cluster2['y'], color = 'r')\n",
    "ActualAx.scatter(cluster3['x'], cluster3['y'], color = 'b')"
   ]
  },
  {
   "cell_type": "code",
   "execution_count": 73,
   "metadata": {},
   "outputs": [
    {
     "data": {
      "image/png": "[encoded data removed]",
      "text/plain": [
       "<Figure size 432x288 with 1 Axes>"
      ]
     },
     "metadata": {
      "needs_background": "light"
     },
     "output_type": "display_data"
    }
   ],
   "source": [
    "#Plotting the dendrogram\n",
    "from scipy.cluster.hierarchy import linkage, dendrogram\n",
    "link = linkage(data, method = 'single')\n",
    "plt.figure()\n",
    "dg= dendrogram(link)"
   ]
  },
  {
   "cell_type": "code",
   "execution_count": null,
   "metadata": {},
   "outputs": [],
   "source": []
  }
 ],
 "metadata": {
  "kernelspec": {
   "display_name": "Python 3",
   "language": "python",
   "name": "python3"
  },
  "language_info": {
   "codemirror_mode": {
    "name": "ipython",
    "version": 3
   },
   "file_extension": ".py",
   "mimetype": "text/x-python",
   "name": "python",
   "nbconvert_exporter": "python",
   "pygments_lexer": "ipython3",
   "version": "3.8.2"
  }
 },
 "nbformat": 4,
 "nbformat_minor": 4
}
