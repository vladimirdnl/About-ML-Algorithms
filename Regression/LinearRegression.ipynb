{
 "cells": [
  {
   "cell_type": "markdown",
   "metadata": {},
   "source": [
    "# <font color = orange>__Linear Regression__</font>\n",
    "___"
   ]
  },
  {
   "cell_type": "markdown",
   "metadata": {},
   "source": [
    "## What is Linear Regression? \n",
    "__Linear Regression__ is a Machine Learning Algorithm, which is used to predict the behavior of a __dependent variable(y)__  based on __independent variable(x)__ value.\\\n",
    "Some time ago it was just a statistical type of modelling, but recently it became a widely-used ML algorithm.\\\n",
    "\\\n",
    "__Linear Regression__ is commonly the first ML algorithm to study because:\n",
    "- models that have linear dependence between variables are easier to fit\n",
    "- is being used extensively in practical application\n",
    "- is \"Beginner-Friendly\""
   ]
  },
  {
   "cell_type": "markdown",
   "metadata": {},
   "source": [
    "## Use Cases\n",
    "This algorithm's common types of use cases:\n",
    "-  Evaluating trends and sales estimates\n",
    "-  Analyzing the impact of price changes\n",
    "-  Assessment of risk in different sevices and insurance domain"
   ]
  },
  {
   "cell_type": "markdown",
   "metadata": {},
   "source": [
    "## Selection Criteria\n",
    "When we know use cases, we have to make sure that implementing Linear Regression is right thing to do.\\\n",
    "**Criteria** itself:\n",
    "- Classification and regression capabilities \n",
    "- Data Quality \n",
    "- Not complex for computing, fast\n",
    "\n",
    "*(Make sure that the data forms something similar to a straight line)*"
   ]
  },
  {
   "cell_type": "markdown",
   "metadata": {},
   "source": [
    "# <font color = orange>__Simple Linear Regression__</font>\n",
    "___"
   ]
  },
  {
   "cell_type": "markdown",
   "metadata": {},
   "source": [
    "## Maths behind Linear Regression\n",
    "___\n",
    "### Finding The Line\n",
    "In the maths part we need to find the best fit of a straight line along points of our data, **minimizing error(RRS)**.\\\n",
    "The **straight line equation** is described as:\\\n",
    "<font size = 3>$ y = \\beta_0 + \\beta_1x $ </font>\\\n",
    "\\\n",
    "Where $x$ is our **feature**,\\\n",
    "$\\beta_1$ is our **line slope**\\\n",
    "\\\n",
    "The $\\beta_1$ with minimum **RRS** is:\\\n",
    "<font size = 4.5>$\\beta_1 = \\frac{\\sum \\limits _{i = 1} ^ {n} (x_i - \\overline{x})(y_i - \\overline{y})}{\\sum \\limits _{i = 1} ^ {n} (x_i - \\overline{x})^2}$</font>\\\n",
    "\\\n",
    "And $\\beta_0$ is\\\n",
    "\\\n",
    "<font size = 4.5>$\\beta_0 = \\overline{y} - \\beta_1\\overline{x}$</font>\n",
    "\n",
    "\n",
    "### Finding the goodness of fit \n",
    "To find the **goodness of fit**, we need to find **R squared** - measure of how close the data is to **our line**\n",
    "\n",
    "<font size = 4.5>$R^2 = \n",
    "\\frac{\\sum \\limits _{i = 1} ^ {n}(Y_i - \\overline{y})^2}{\\sum \\limits _{i = 1} ^ {n}(y_i - \\overline{y})^2}\n",
    "\\quad(\\times 100\\%)$</font>\\\n",
    "Where **$Y$** is our predicted value"
   ]
  },
  {
   "cell_type": "markdown",
   "metadata": {},
   "source": [
    "## Application of Linear Regression\n",
    "___"
   ]
  },
  {
   "cell_type": "markdown",
   "metadata": {},
   "source": [
    "Now I am going to use Dataset that describes **weight of brain** based on the **size of the head** to implement **Linear Regression Algorithm.**"
   ]
  },
  {
   "cell_type": "markdown",
   "metadata": {},
   "source": [
    "### Importing libraries"
   ]
  },
  {
   "cell_type": "code",
   "execution_count": 2,
   "metadata": {},
   "outputs": [],
   "source": [
    "%matplotlib inline\n",
    "import numpy as np\n",
    "import pandas as pd\n",
    "import matplotlib.pyplot as plt\n",
    "import math\n",
    "plt.rcParams['figure.figsize'] = (20,10)"
   ]
  },
  {
   "cell_type": "markdown",
   "metadata": {},
   "source": [
    "### Getting and collecting data"
   ]
  },
  {
   "cell_type": "code",
   "execution_count": 3,
   "metadata": {
    "scrolled": true
   },
   "outputs": [
    {
     "name": "stdout",
     "output_type": "stream",
     "text": [
      "(237, 4)\n"
     ]
    },
    {
     "data": {
      "text/html": [
       "<div>\n",
       "<style scoped>\n",
       "    .dataframe tbody tr th:only-of-type {\n",
       "        vertical-align: middle;\n",
       "    }\n",
       "\n",
       "    .dataframe tbody tr th {\n",
       "        vertical-align: top;\n",
       "    }\n",
       "\n",
       "    .dataframe thead th {\n",
       "        text-align: right;\n",
       "    }\n",
       "</style>\n",
       "<table border=\"1\" class=\"dataframe\">\n",
       "  <thead>\n",
       "    <tr style=\"text-align: right;\">\n",
       "      <th></th>\n",
       "      <th>Gender</th>\n",
       "      <th>Age Range</th>\n",
       "      <th>Head Size(cm^3)</th>\n",
       "      <th>Brain Weight(grams)</th>\n",
       "    </tr>\n",
       "  </thead>\n",
       "  <tbody>\n",
       "    <tr>\n",
       "      <th>0</th>\n",
       "      <td>1</td>\n",
       "      <td>1</td>\n",
       "      <td>4512</td>\n",
       "      <td>1530</td>\n",
       "    </tr>\n",
       "    <tr>\n",
       "      <th>1</th>\n",
       "      <td>1</td>\n",
       "      <td>1</td>\n",
       "      <td>3738</td>\n",
       "      <td>1297</td>\n",
       "    </tr>\n",
       "    <tr>\n",
       "      <th>2</th>\n",
       "      <td>1</td>\n",
       "      <td>1</td>\n",
       "      <td>4261</td>\n",
       "      <td>1335</td>\n",
       "    </tr>\n",
       "    <tr>\n",
       "      <th>3</th>\n",
       "      <td>1</td>\n",
       "      <td>1</td>\n",
       "      <td>3777</td>\n",
       "      <td>1282</td>\n",
       "    </tr>\n",
       "    <tr>\n",
       "      <th>4</th>\n",
       "      <td>1</td>\n",
       "      <td>1</td>\n",
       "      <td>4177</td>\n",
       "      <td>1590</td>\n",
       "    </tr>\n",
       "  </tbody>\n",
       "</table>\n",
       "</div>"
      ],
      "text/plain": [
       "   Gender  Age Range  Head Size(cm^3)  Brain Weight(grams)\n",
       "0       1          1             4512                 1530\n",
       "1       1          1             3738                 1297\n",
       "2       1          1             4261                 1335\n",
       "3       1          1             3777                 1282\n",
       "4       1          1             4177                 1590"
      ]
     },
     "execution_count": 3,
     "metadata": {},
     "output_type": "execute_result"
    }
   ],
   "source": [
    "#Getting data\n",
    "data = pd.read_csv('data/headbrain.csv')\n",
    "print(data.shape)\n",
    "data.head()"
   ]
  },
  {
   "cell_type": "code",
   "execution_count": 4,
   "metadata": {},
   "outputs": [
    {
     "data": {
      "text/plain": [
       "Gender                 0\n",
       "Age Range              0\n",
       "Head Size(cm^3)        0\n",
       "Brain Weight(grams)    0\n",
       "dtype: int64"
      ]
     },
     "execution_count": 4,
     "metadata": {},
     "output_type": "execute_result"
    }
   ],
   "source": [
    "#Checking null values\n",
    "data.isnull().sum()"
   ]
  },
  {
   "cell_type": "code",
   "execution_count": 5,
   "metadata": {},
   "outputs": [
    {
     "data": {
      "text/html": [
       "<div>\n",
       "<style scoped>\n",
       "    .dataframe tbody tr th:only-of-type {\n",
       "        vertical-align: middle;\n",
       "    }\n",
       "\n",
       "    .dataframe tbody tr th {\n",
       "        vertical-align: top;\n",
       "    }\n",
       "\n",
       "    .dataframe thead th {\n",
       "        text-align: right;\n",
       "    }\n",
       "</style>\n",
       "<table border=\"1\" class=\"dataframe\">\n",
       "  <thead>\n",
       "    <tr style=\"text-align: right;\">\n",
       "      <th></th>\n",
       "      <th>Head Size(cm^3)</th>\n",
       "      <th>Brain Weight(grams)</th>\n",
       "    </tr>\n",
       "  </thead>\n",
       "  <tbody>\n",
       "    <tr>\n",
       "      <th>0</th>\n",
       "      <td>4512</td>\n",
       "      <td>1530</td>\n",
       "    </tr>\n",
       "    <tr>\n",
       "      <th>1</th>\n",
       "      <td>3738</td>\n",
       "      <td>1297</td>\n",
       "    </tr>\n",
       "    <tr>\n",
       "      <th>2</th>\n",
       "      <td>4261</td>\n",
       "      <td>1335</td>\n",
       "    </tr>\n",
       "    <tr>\n",
       "      <th>3</th>\n",
       "      <td>3777</td>\n",
       "      <td>1282</td>\n",
       "    </tr>\n",
       "    <tr>\n",
       "      <th>4</th>\n",
       "      <td>4177</td>\n",
       "      <td>1590</td>\n",
       "    </tr>\n",
       "    <tr>\n",
       "      <th>...</th>\n",
       "      <td>...</td>\n",
       "      <td>...</td>\n",
       "    </tr>\n",
       "    <tr>\n",
       "      <th>232</th>\n",
       "      <td>3214</td>\n",
       "      <td>1110</td>\n",
       "    </tr>\n",
       "    <tr>\n",
       "      <th>233</th>\n",
       "      <td>3394</td>\n",
       "      <td>1215</td>\n",
       "    </tr>\n",
       "    <tr>\n",
       "      <th>234</th>\n",
       "      <td>3233</td>\n",
       "      <td>1104</td>\n",
       "    </tr>\n",
       "    <tr>\n",
       "      <th>235</th>\n",
       "      <td>3352</td>\n",
       "      <td>1170</td>\n",
       "    </tr>\n",
       "    <tr>\n",
       "      <th>236</th>\n",
       "      <td>3391</td>\n",
       "      <td>1120</td>\n",
       "    </tr>\n",
       "  </tbody>\n",
       "</table>\n",
       "<p>237 rows × 2 columns</p>\n",
       "</div>"
      ],
      "text/plain": [
       "     Head Size(cm^3)  Brain Weight(grams)\n",
       "0               4512                 1530\n",
       "1               3738                 1297\n",
       "2               4261                 1335\n",
       "3               3777                 1282\n",
       "4               4177                 1590\n",
       "..               ...                  ...\n",
       "232             3214                 1110\n",
       "233             3394                 1215\n",
       "234             3233                 1104\n",
       "235             3352                 1170\n",
       "236             3391                 1120\n",
       "\n",
       "[237 rows x 2 columns]"
      ]
     },
     "execution_count": 5,
     "metadata": {},
     "output_type": "execute_result"
    }
   ],
   "source": [
    "#Drop the data we don't need\n",
    "data.drop(['Gender', 'Age Range'], axis = 1, inplace = True)\n",
    "data"
   ]
  },
  {
   "cell_type": "code",
   "execution_count": 6,
   "metadata": {},
   "outputs": [],
   "source": [
    "#Collecting data for Linear Regression\n",
    "X = data['Head Size(cm^3)']\n",
    "Y = data['Brain Weight(grams)']"
   ]
  },
  {
   "cell_type": "markdown",
   "metadata": {},
   "source": [
    "### Maths Method"
   ]
  },
  {
   "cell_type": "markdown",
   "metadata": {},
   "source": [
    "\n",
    "#### Linear Regression Statistical model"
   ]
  },
  {
   "cell_type": "code",
   "execution_count": 7,
   "metadata": {},
   "outputs": [
    {
     "name": "stdout",
     "output_type": "stream",
     "text": [
      "0.26342933948939945 325.57342104944223\n"
     ]
    }
   ],
   "source": [
    "mean_x = np.mean(X)\n",
    "mean_y = np.mean(Y)\n",
    "\n",
    "#number of values\n",
    "n = len(X)\n",
    "\n",
    "#calculating m and c\n",
    "num = 0\n",
    "den = 0\n",
    "for i in range(n):\n",
    "    num+=(X[i] - mean_x)*(Y[i] - mean_y)\n",
    "    den+=(X[i]-mean_x)**2\n",
    "m = num/den\n",
    "c = mean_y - mean_x*m\n",
    "#printing coefficients\n",
    "print(m,c)"
   ]
  },
  {
   "cell_type": "markdown",
   "metadata": {},
   "source": [
    "#### Creating a plot with data and LR"
   ]
  },
  {
   "cell_type": "code",
   "execution_count": 8,
   "metadata": {},
   "outputs": [
    {
     "data": {
      "text/plain": [
       "<matplotlib.legend.Legend at 0xc034358>"
      ]
     },
     "execution_count": 8,
     "metadata": {},
     "output_type": "execute_result"
    },
    {
     "data": {
      "image/png": "[encoded data removed]",
      "text/plain": [
       "<Figure size 1440x720 with 1 Axes>"
      ]
     },
     "metadata": {
      "needs_background": "light"
     },
     "output_type": "display_data"
    }
   ],
   "source": [
    "max_x = np.max(X) + 100\n",
    "min_x = np.min(X) - 100\n",
    "\n",
    "x = np.linspace(max_x, min_x, 1000)\n",
    "y = m*x + c\n",
    "plt.plot(X,Y, color = '#ff3555', linestyle = '', marker = 'o', label = 'Head Size and Brain Weight')\n",
    "plt.plot(x,y, color = '#58b970', linestyle = '-', label = 'Linear Regression Line')\n",
    "\n",
    "plt.xlabel('Head size in cm3')\n",
    "plt.ylabel('Brain Weight in grams')\n",
    "plt.legend(loc = 'lower right', prop={'size': 25})"
   ]
  },
  {
   "cell_type": "markdown",
   "metadata": {},
   "source": [
    "##### Calculating the R squared to estimate the goodness of fit"
   ]
  },
  {
   "cell_type": "code",
   "execution_count": 9,
   "metadata": {},
   "outputs": [
    {
     "name": "stdout",
     "output_type": "stream",
     "text": [
      "0.6393117199570001\n"
     ]
    }
   ],
   "source": [
    "numRs = 0\n",
    "domRs = 0\n",
    "\n",
    "nRs = len(X)\n",
    "for i in range(nRs):\n",
    "    Yp = m*X[i] + c\n",
    "    numRs += (Yp - mean_y)**2\n",
    "    domRs += (Y[i] - mean_y)**2\n",
    "\n",
    "R_squared = numRs/domRs\n",
    "print(R_squared)"
   ]
  },
  {
   "cell_type": "markdown",
   "metadata": {},
   "source": [
    "### Scikit Learn method"
   ]
  },
  {
   "cell_type": "markdown",
   "metadata": {},
   "source": [
    "#### Linear Regression Scikit Learn model"
   ]
  },
  {
   "cell_type": "code",
   "execution_count": 10,
   "metadata": {},
   "outputs": [],
   "source": [
    "from sklearn.linear_model import LinearRegression as LR\n",
    "from sklearn.metrics import mean_squared_error\n",
    "\n",
    "max_x = np.max(X) + 100\n",
    "min_x = np.min(X) - 100\n",
    "\n",
    "X_topred = np.linspace(np.min(X), np.max(X), 1000)\n",
    "X_topred = X_topred[:, np.newaxis]\n",
    "model = LR()\n",
    "#Regression Fitting\n",
    "model.fit(X[:, np.newaxis], Y)\n",
    "#Predicting\n",
    "Y_pred = model.predict(X_topred)"
   ]
  },
  {
   "cell_type": "markdown",
   "metadata": {},
   "source": [
    "#### Creating a plot with Data and LR"
   ]
  },
  {
   "cell_type": "code",
   "execution_count": 11,
   "metadata": {},
   "outputs": [
    {
     "data": {
      "text/plain": [
       "<matplotlib.legend.Legend at 0x1323b4c0>"
      ]
     },
     "execution_count": 11,
     "metadata": {},
     "output_type": "execute_result"
    },
    {
     "data": {
      "image/png": "[encoded data removed]",
      "text/plain": [
       "<Figure size 1440x720 with 1 Axes>"
      ]
     },
     "metadata": {
      "needs_background": "light"
     },
     "output_type": "display_data"
    }
   ],
   "source": [
    "#creating a plot with data and LR\n",
    "plt.plot(X,Y, color = '#ff3555', linestyle = '', marker = 'o', label = 'Head Size and Brain Weight')\n",
    "plt.plot(X_topred,Y_pred, color = '#58b970', linestyle = '-', label = 'Linear Regression Line')\n",
    "\n",
    "plt.xlabel('Head size in cm3')\n",
    "plt.ylabel('Brain Weight in grams')\n",
    "plt.legend(loc = 'lower right', prop={'size': 25})"
   ]
  },
  {
   "cell_type": "markdown",
   "metadata": {},
   "source": [
    "#### Calculating the R squared to estimate the goodness of fit"
   ]
  },
  {
   "cell_type": "code",
   "execution_count": 12,
   "metadata": {},
   "outputs": [
    {
     "name": "stdout",
     "output_type": "stream",
     "text": [
      "0.639311719957\n"
     ]
    }
   ],
   "source": [
    "#Calculating R2\n",
    "r2_score = model.score(X[:,np.newaxis], Y)\n",
    "print(r2_score)"
   ]
  },
  {
   "cell_type": "markdown",
   "metadata": {},
   "source": [
    "#### Little prediction"
   ]
  },
  {
   "cell_type": "code",
   "execution_count": 15,
   "metadata": {},
   "outputs": [
    {
     "name": "stdout",
     "output_type": "stream",
     "text": [
      "Brain weight for 2356 cm3 is approximately 946.21 grams\n"
     ]
    }
   ],
   "source": [
    "#Given head volume, predict the brain weight\n",
    "headvol = 2356\n",
    "Head_Volume = [[headvol]]\n",
    "Head_Weight = model.predict(Head_Volume)\n",
    "headw = round(Head_Weight[0],2) \n",
    "print('Brain weight for ' + str(headvol) +' cm3 is approximately ' + str(headw) + ' grams')"
   ]
  },
  {
   "cell_type": "markdown",
   "metadata": {},
   "source": [
    "# <font color = orange> __Multiple Linear Regression__\n",
    "___"
   ]
  },
  {
   "cell_type": "markdown",
   "metadata": {},
   "source": [
    "**Multiple Linear Regression** is quite similar to the **Simple** one, there are just more **independent variables** taken to predict the **dependent variable value**\n",
    "\n",
    "## Maths behind Multiple Linear Regression\n",
    "Now the equation is given like:\\\n",
    "<font size = 3>$f(x) = \\beta_0 + \\beta_1x_1 + \\beta_2x_2 + \\text{...} + \\beta_nx_n + e$</font>\\\n",
    "\\\n",
    "in other words\\\n",
    "<font size = 3> $\\hat{y} = \\hat\\beta_0 + \\hat\\beta_1x_1 + \\hat\\beta_2x_2 + \\text{...} + \\hat\\beta_nx_n \n",
    "$</font>\\\n",
    "\\\n",
    "Where $\\hat\\beta_0, \\hat\\beta_1,\\hat\\beta_2, \\space\\text{...}\\space, \\hat\\beta_n$ are the **parameters** we need to **estimate** for our $\\hat{y}$\\\n",
    "$x_0, x_1, x_2, \\space\\text{...}\\space, x_n $ are our **features** (we assume that we have $x_0$ that goes along with $\\beta_0$ as $1$)\\\n",
    "And $e$ is our **error**\\\n",
    "\\\n",
    "Now we know that **multiple** points of data have **multiple** number of equations, so the **equations** can be **simplified** using **matrices**.\\\n",
    "\\\n",
    "Lets assume that\\\n",
    "\\\n",
    "<font size = 4.5>$y = \\begin{bmatrix} \n",
    "y_1 \\\\\n",
    "y_2 \\\\\n",
    "y_3 \\\\\n",
    "\\text{...} \\\\\n",
    "y_n\n",
    "\\end{bmatrix}, \n",
    "\\space\n",
    "X = \\begin{bmatrix}\n",
    "1 & X_{1\\space1} & X_{1\\space2} & X_{1\\space3} & \\text{.} & \\text{.} & X_{1\\space p}\\\\\n",
    "1 & X_{2\\space1} & X_{2\\space2} & X_{2\\space3} & \\text{.} & \\text{.} & X_{2\\space p}\\\\\n",
    "1 & X_{3\\space1} & X_{3\\space2} & X_{3\\space3} & \\text{.} & \\text{.} & X_{3\\space p}\\\\\n",
    "\\text{.} & \\text{.} & \\text{.} & \\text{.} & \\text{.} & \\text{.} & \\text{.}\\\\\n",
    "1 & X_{n\\space1} & X_{n\\space2} & X_{n\\space3} & \\text{.} & \\text{.} & X_{n\\space p}\n",
    "\\end{bmatrix},\n",
    "\\space\n",
    "\\beta = \\begin{bmatrix}\n",
    "\\beta_0 \\\\\n",
    "\\beta_1 \\\\\n",
    "\\beta_2 \\\\\n",
    "\\text{.} \\\\\n",
    "\\beta_p\n",
    "\\end{bmatrix},\n",
    "\\space \\\n",
    "e = \\begin{bmatrix}\n",
    "e_1 \\\\\n",
    "e_2 \\\\\n",
    "e_3 \\\\\n",
    "\\text{.} \\\\\n",
    "e_n\n",
    "\\end{bmatrix}$</font>\\\n",
    "\\\n",
    "We can represent all our equations as:\\\n",
    "<font size = 4.5>$y = X\\beta + e$</font>\\\n",
    "\\\n",
    "And\\\n",
    "<font size = 4.5>$\\hat{y} = X\\hat\\beta$</font>\n",
    "\\\n",
    "Where $\\hat{y}$ is our value to predict, $\\hat\\beta$ is our parameter to estimate\\\n",
    "\\\n",
    "The errors equation is\\\n",
    "<font size = 4.5>$e = y - \\hat{y}$</font>\\\n",
    "\\\n",
    "We need to minimize our errors, so equation is\\\n",
    "<font size = 4.5>$RSS = \\sum \\limits _{i = 1} ^ {n} e_i^2$</font>\\\n",
    "\\\n",
    "RSS in matrix can also be written as $e^Te$(thus, in every matrix element we will have $e_i^2$), and becomes\n",
    "\\\n",
    "<font size = 4.5>$\n",
    "RSS = e^Te = (y-\\hat{y})^T(y-\\hat{y}) = (y- X\\hat\\beta)^T(y- X\\hat\\beta) = \n",
    "(y^T- \\hat{\\beta^T}X^T)(y- X\\hat\\beta)$</font>\\\n",
    "\\\n",
    "So our RSS formula is\\\n",
    "<font size = 4.5>$RSS = y^Ty - y^T X\\hat\\beta - \\hat{\\beta^T} X^Ty + \\hat{\\beta^T}X^T X\\hat\\beta$</font>\\\n",
    "\\\n",
    "\\\n",
    "To find the minimum of RSS we need to take a derivative of RSS with respect to $\\hat\\beta$\\\n",
    "<font size = 4.5>$\\frac{\\partial (RSS)}{\\partial (\\hat\\beta)} = 0 - y^TX - (X^Ty)^T + 2 \\hat{\\beta^T} X^T X \\\\\n",
    "\\frac{\\partial (RSS)}{\\partial (\\hat\\beta)} = - y^TX - y^TX + 2\\hat{\\beta^T} X^T X \\\\\n",
    "\\frac{\\partial (RSS)}{\\partial (\\hat\\beta)} = 2\\hat{\\beta^T} X^T X - 2 y^TX$</font>\\\n",
    "\\\n",
    "And equal it to zero\\\n",
    "<font size = 4.5>$2 \\hat{\\beta^T} X^T X - 2y^TX = 0 \\\\\n",
    "2\\hat{\\beta^T} X^T X =  2y^TX \\\\\n",
    "\\hat{\\beta^T} X^T X =  y^TX \\\\\n",
    "\\hat{\\beta^T} = y^TX(X^TX)^{-1} \\\\\n",
    "\\hat \\beta = (X^TX)^{-1}X^Ty\n",
    "$</font>\\\n",
    "\\\n",
    "So formula to estimate $\\hat\\beta$ is\\\n",
    "<font size = 4.5>$\\hat \\beta = (X^TX)^{-1}X^Ty$</font>\\\n",
    "\\\n",
    "To predict the outcome we will have:\\\n",
    "<font size = 4.5>$\\hat{y} = X\\hat \\beta$</font>\\\n",
    "\\\n",
    "Where in matrix $X$ we can include multiple features"
   ]
  },
  {
   "cell_type": "code",
   "execution_count": null,
   "metadata": {},
   "outputs": [],
   "source": []
  }
 ],
 "metadata": {
  "kernelspec": {
   "display_name": "Python 3",
   "language": "python",
   "name": "python3"
  },
  "language_info": {
   "codemirror_mode": {
    "name": "ipython",
    "version": 3
   },
   "file_extension": ".py",
   "mimetype": "text/x-python",
   "name": "python",
   "nbconvert_exporter": "python",
   "pygments_lexer": "ipython3",
   "version": "3.8.2"
  }
 },
 "nbformat": 4,
 "nbformat_minor": 4
}
