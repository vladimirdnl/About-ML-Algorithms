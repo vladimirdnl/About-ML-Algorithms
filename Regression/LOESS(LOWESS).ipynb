{
 "cells": [
  {
   "cell_type": "markdown",
   "metadata": {},
   "source": [
    "# LOESS - Locally Estimated Scatterplot Smoothing\n",
    "___"
   ]
  },
  {
   "cell_type": "markdown",
   "metadata": {},
   "source": [
    "**LOESS** is a **non-parametric** type of **smoother** (though *Linear Regression* is used as its core), which idea is to recover the **true signal** from a **noisy** sample.\\\n",
    "It is used with different types of the same regression model to smooth out small and localized areas of the signal.\\\n",
    "\\\n",
    "So, in other words, instead of taking **one Linear Regression**, which would be quite strange, we take **multiple number of Linear Regressions** to smooth little area, thus getting some points of our **locally smoothed data**. After combining all data points from the whole number of Linear Regressions(smoothing) we used, we get a **non-linear data without  noise**."
   ]
  },
  {
   "cell_type": "markdown",
   "metadata": {},
   "source": [
    "## How does LOESS work?"
   ]
  },
  {
   "cell_type": "markdown",
   "metadata": {},
   "source": [
    "For each value of **x** we estimate **y(x)** using its neighboring samples.\\\n",
    "The first step is to collect values of **x**, lets call them $x_1$ to estimate our $\\hat{y}$.\\\n",
    "Now for $x_1$, we must find its **k nearest neighbors** using a simple **Euclidean distance**\\\n",
    "Let the set of distances be called $D$\\\n",
    "The next step is to convert our set $D$ to set of weights $W$ using tricubic weighting function:\n",
    "$w(x) = \\begin{cases} (1 - |x|^3)^3 & |x|<1\\\\\n",
    "0 & |x| \\geq 1 \\end {cases}$\n",
    "\\\n",
    "As the function only has positive results for -1 < x < 1, we normalize the distance by dividing it by the maximum value observed in our distance.\n",
    "\\\n",
    "\\\n",
    "So now we have our equasion like:\\\n",
    "<font size = 4.5>$w(x) = \\begin{cases} (1 - |\\frac{d(x, x_1)}{max_i \\space d(x_i,x_1)}|^3)^3 & |x|<1, d(x_i, x_1) \\in D\\\\\n",
    "0 & |x| \\geq 1 \\end {cases}$</font>\\\n",
    "\\\n",
    "\\\n",
    "Now it's time to estimate our $\\hat{y}$ using Linear Regression:\\\n",
    "\\\n",
    "All we have to do is:\n",
    "\\\n",
    "<font size = 4.5>$\\overline{x} = \\frac {\\sum \\limits _{1} ^{d} w_i\\cdot x_i} {\\sum \\limits _{1} ^{d} w_i} \\\\\n",
    "\\overline{y} = \\frac {\\sum \\limits _{1} ^{d} w_i\\cdot y_i} {\\sum \\limits _{1} ^{d} w_i} \\\\\n",
    "\\beta_1 = \\frac {\\sum \\limits _{1} ^{d} w_i\\cdot x_i\\cdot y_i\\cdot - \\overline{x}\\cdot\\overline{y} \\cdot \\sum \\limits _{1} ^{d} w_i}\n",
    "{\\sum \\limits _{1} ^{d} w_i \\cdot x_i^2 \\space-\\space \\overline{x}^2 \\cdot \\sum \\limits _{1} ^{d} w_i}\\\\\n",
    "\\\\\n",
    "\\beta_0 = \\overline{y} - \\beta_1 \\overline{x} \\\\\n",
    "\\\\\n",
    "\\hat{y} = \\beta_0 + \\beta_1 x$</font>\\\n",
    "\\\n",
    "Then we take one point of our estimated $\\hat{y}$ that shares its $x$ with our first, focal data point we used in regression and go on to the next range of points, to get the smoothed data.\n",
    "\\\n",
    "Also after this we have to do our job one more time but now reweighting the points this way: the  more distance original point there is from estimated, the less weight the estimated has."
   ]
  },
  {
   "cell_type": "markdown",
   "metadata": {},
   "source": [
    "## Application:"
   ]
  },
  {
   "cell_type": "code",
   "execution_count": 1,
   "metadata": {},
   "outputs": [],
   "source": [
    "#importing libraries\n",
    "import numpy as np\n",
    "import matplotlib.pyplot as plt\n",
    "%matplotlib inline"
   ]
  },
  {
   "cell_type": "code",
   "execution_count": 2,
   "metadata": {},
   "outputs": [
    {
     "data": {
      "text/plain": [
       "<matplotlib.collections.PathCollection at 0x42d3c28>"
      ]
     },
     "execution_count": 2,
     "metadata": {},
     "output_type": "execute_result"
    },
    {
     "data": {
      "image/png": "[encoded data removed]",
      "text/plain": [
       "<Figure size 432x288 with 1 Axes>"
      ]
     },
     "metadata": {
      "needs_background": "light"
     },
     "output_type": "display_data"
    }
   ],
   "source": [
    "#Creating data with noise, as our prototype\n",
    "#For example, I will create a cosine line with a little bit of noise\n",
    "X = np.linspace(0,10,250)\n",
    "Y = np.cos(X)\n",
    "RS = np.random.RandomState(42)\n",
    "y_n = np.array([Y[i] + RS.randn()/9 for i in range(len(Y))])\n",
    "plt.scatter(X, y_n, s = 0.5, c = 'red')"
   ]
  },
  {
   "cell_type": "code",
   "execution_count": 3,
   "metadata": {},
   "outputs": [],
   "source": [
    "#importing model and using it\n",
    "\n",
    "from statsmodels.nonparametric.smoothers_lowess import lowess\n",
    "#get estimated non-linear graph\n",
    "y_est = lowess(y_n, X, frac = 0.1, it = 3, return_sorted = False)"
   ]
  },
  {
   "cell_type": "code",
   "execution_count": 4,
   "metadata": {},
   "outputs": [
    {
     "data": {
      "text/plain": [
       "<matplotlib.collections.PathCollection at 0xc770d00>"
      ]
     },
     "execution_count": 4,
     "metadata": {},
     "output_type": "execute_result"
    },
    {
     "data": {
      "image/png": "[encoded data removed]",
      "text/plain": [
       "<Figure size 432x288 with 1 Axes>"
      ]
     },
     "metadata": {
      "needs_background": "light"
     },
     "output_type": "display_data"
    }
   ],
   "source": [
    "#Now let's compare our noisy data with estimated one\n",
    "plt.plot(X, y_est)\n",
    "plt.scatter(X, y_n, s = 0.5, c = 'red')"
   ]
  },
  {
   "cell_type": "code",
   "execution_count": null,
   "metadata": {},
   "outputs": [],
   "source": []
  }
 ],
 "metadata": {
  "kernelspec": {
   "display_name": "Python 3",
   "language": "python",
   "name": "python3"
  },
  "language_info": {
   "codemirror_mode": {
    "name": "ipython",
    "version": 3
   },
   "file_extension": ".py",
   "mimetype": "text/x-python",
   "name": "python",
   "nbconvert_exporter": "python",
   "pygments_lexer": "ipython3",
   "version": "3.8.2"
  }
 },
 "nbformat": 4,
 "nbformat_minor": 4
}
